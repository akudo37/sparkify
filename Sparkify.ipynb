{
 "cells": [
  {
   "cell_type": "markdown",
   "metadata": {},
   "source": [
    "# Sparkify Project Workspace\n",
    "This workspace contains a tiny subset (128MB) of the full dataset available (12GB). Feel free to use this workspace to build your project, or to explore a smaller subset with Spark before deploying your cluster on the cloud. Instructions for setting up your Spark cluster is included in the last lesson of the Extracurricular Spark Course content.\n",
    "\n",
    "You can follow the steps below to guide your data analysis and model building portion of this project."
   ]
  },
  {
   "cell_type": "code",
   "execution_count": 23,
   "metadata": {},
   "outputs": [],
   "source": [
    "# import libraries\n",
    "from sklearn.metrics import average_precision_score\n",
    "from sklearn.metrics import auc as Fauc\n",
    "from sklearn.metrics import f1_score\n",
    "from sklearn.metrics import precision_recall_curve\n",
    "import seaborn as sns\n",
    "from pyspark.sql import SparkSession\n",
    "from pyspark.sql.types import IntegerType, FloatType, StringType\n",
    "from pyspark.sql.functions import col, udf, asc, desc, min, max, count, avg, stddev_pop, countDistinct, last, first, when\n",
    "from pyspark.sql.functions import isnan, lit, greatest, round\n",
    "from pyspark.sql.functions import sum as Fsum\n",
    "from pyspark.sql import Window\n",
    "from pyspark.ml.feature import VectorAssembler, StringIndexer, OneHotEncoderEstimator, StandardScaler, SQLTransformer\n",
    "from pyspark.ml.pipeline import Pipeline, PipelineModel\n",
    "from pyspark.ml.classification import LogisticRegression, RandomForestClassifier, GBTClassifier\n",
    "from pyspark.ml.tuning import CrossValidator, ParamGridBuilder\n",
    "from pyspark.ml.evaluation import BinaryClassificationEvaluator\n",
    "\n",
    "import numpy as np\n",
    "import datetime\n",
    "import matplotlib.pyplot as plt\n",
    "%matplotlib inline"
   ]
  },
  {
   "cell_type": "code",
   "execution_count": 24,
   "metadata": {},
   "outputs": [],
   "source": [
    "# create a Spark session\n",
    "spark = SparkSession \\\n",
    "    .builder \\\n",
    "    .appName(\"Sparkify\") \\\n",
    "    .master(\"local\") \\\n",
    "    .getOrCreate()"
   ]
  },
  {
   "cell_type": "markdown",
   "metadata": {},
   "source": [
    "# Load and Clean Dataset\n",
    "In this workspace, the mini-dataset file is `mini_sparkify_event_data.json`. Load and clean the dataset, checking for invalid or missing data - for example, records without userids or sessionids. "
   ]
  },
  {
   "cell_type": "code",
   "execution_count": 25,
   "metadata": {},
   "outputs": [
    {
     "data": {
      "text/plain": [
       "DataFrame[artist: string, auth: string, firstName: string, gender: string, itemInSession: bigint, lastName: string, length: double, level: string, location: string, method: string, page: string, registration: bigint, sessionId: bigint, song: string, status: bigint, ts: bigint, userAgent: string, userId: string]"
      ]
     },
     "execution_count": 25,
     "metadata": {},
     "output_type": "execute_result"
    }
   ],
   "source": [
    "# load data subset\n",
    "data_path = 'mini_sparkify_event_data.json'\n",
    "data = spark.read.json(data_path)\n",
    "data.persist()"
   ]
  },
  {
   "cell_type": "code",
   "execution_count": 5,
   "metadata": {
    "scrolled": false
   },
   "outputs": [
    {
     "data": {
      "text/plain": [
       "[Row(artist='Martha Tilston', auth='Logged In', firstName='Colin', gender='M', itemInSession=50, lastName='Freeman', length=277.89016, level='paid', location='Bakersfield, CA', method='PUT', page='NextSong', registration=1538173362000, sessionId=29, song='Rockpools', status=200, ts=1538352117000, userAgent='Mozilla/5.0 (Windows NT 6.1; WOW64; rv:31.0) Gecko/20100101 Firefox/31.0', userId='30'),\n",
       " Row(artist='Five Iron Frenzy', auth='Logged In', firstName='Micah', gender='M', itemInSession=79, lastName='Long', length=236.09424, level='free', location='Boston-Cambridge-Newton, MA-NH', method='PUT', page='NextSong', registration=1538331630000, sessionId=8, song='Canada', status=200, ts=1538352180000, userAgent='\"Mozilla/5.0 (Windows NT 6.1; WOW64) AppleWebKit/537.36 (KHTML, like Gecko) Chrome/37.0.2062.103 Safari/537.36\"', userId='9'),\n",
       " Row(artist='Adam Lambert', auth='Logged In', firstName='Colin', gender='M', itemInSession=51, lastName='Freeman', length=282.8273, level='paid', location='Bakersfield, CA', method='PUT', page='NextSong', registration=1538173362000, sessionId=29, song='Time For Miracles', status=200, ts=1538352394000, userAgent='Mozilla/5.0 (Windows NT 6.1; WOW64; rv:31.0) Gecko/20100101 Firefox/31.0', userId='30'),\n",
       " Row(artist='Enigma', auth='Logged In', firstName='Micah', gender='M', itemInSession=80, lastName='Long', length=262.71302, level='free', location='Boston-Cambridge-Newton, MA-NH', method='PUT', page='NextSong', registration=1538331630000, sessionId=8, song='Knocking On Forbidden Doors', status=200, ts=1538352416000, userAgent='\"Mozilla/5.0 (Windows NT 6.1; WOW64) AppleWebKit/537.36 (KHTML, like Gecko) Chrome/37.0.2062.103 Safari/537.36\"', userId='9'),\n",
       " Row(artist='Daft Punk', auth='Logged In', firstName='Colin', gender='M', itemInSession=52, lastName='Freeman', length=223.60771, level='paid', location='Bakersfield, CA', method='PUT', page='NextSong', registration=1538173362000, sessionId=29, song='Harder Better Faster Stronger', status=200, ts=1538352676000, userAgent='Mozilla/5.0 (Windows NT 6.1; WOW64; rv:31.0) Gecko/20100101 Firefox/31.0', userId='30')]"
      ]
     },
     "execution_count": 5,
     "metadata": {},
     "output_type": "execute_result"
    }
   ],
   "source": [
    "# check contents\n",
    "data.take(5)"
   ]
  },
  {
   "cell_type": "markdown",
   "metadata": {},
   "source": [
    "---\n",
    "### Data Cleaning\n",
    "**Null distribution check**"
   ]
  },
  {
   "cell_type": "code",
   "execution_count": 6,
   "metadata": {
    "scrolled": false
   },
   "outputs": [
    {
     "data": {
      "text/plain": [
       "286500"
      ]
     },
     "execution_count": 6,
     "metadata": {},
     "output_type": "execute_result"
    }
   ],
   "source": [
    "# data size\n",
    "data.count()"
   ]
  },
  {
   "cell_type": "code",
   "execution_count": 7,
   "metadata": {
    "scrolled": true
   },
   "outputs": [
    {
     "name": "stdout",
     "output_type": "stream",
     "text": [
      "artist 58392\n",
      "auth 0\n",
      "firstName 8346\n",
      "gender 8346\n",
      "itemInSession 0\n",
      "lastName 8346\n",
      "length 58392\n",
      "level 0\n",
      "location 8346\n",
      "method 0\n",
      "page 0\n",
      "registration 8346\n",
      "sessionId 0\n",
      "song 58392\n",
      "status 0\n",
      "ts 0\n",
      "userAgent 8346\n",
      "userId 0\n"
     ]
    }
   ],
   "source": [
    "# print number of Null's for each column\n",
    "for column in data.columns:\n",
    "    print(column, data.where(col(column).isNull()).count())"
   ]
  },
  {
   "cell_type": "markdown",
   "metadata": {},
   "source": [
    ">'artist', 'length', 'song' columns have the same number of Null's, i.e. 58392<br>\n",
    "These can be explained as (data size) - (number of 'NextSong' page) = 286500 - 228108 = 58392<br>\n",
    "(Number of 'NextSong' page is obtained as next cell.)<br>\n",
    "It is reasonable that song information is available only on playing pag, and so these Null's are not erroneous.\n",
    "\n",
    ">'firstName', 'gender', 'lastName', 'location', 'registration', 'userAgend' have the same number of Null's, i.e. 8346<br>\n",
    "These can be explained as (number of 'auth' as 'Logged Out') + (number of 'auth' as 'Guest') = 8249 + 97 = 8346<br>\n",
    "(Number of 'auth' breakdown is obtained as 2 following cell.)<br>\n",
    "It is reasonable that user information is not available on 'Logged Out' state and 'Guest' state, and so these Null's are not erroneous.\n",
    "\n",
    ">And as we found that user information is not available when 'auth' is 'Logged Out' or 'Guest', we will drop rows with these 'auth' values for our churn analysis."
   ]
  },
  {
   "cell_type": "code",
   "execution_count": 8,
   "metadata": {
    "scrolled": false
   },
   "outputs": [
    {
     "data": {
      "text/plain": [
       "[Row(page='NextSong', count=228108),\n",
       " Row(page='Home', count=14457),\n",
       " Row(page='Thumbs Up', count=12551),\n",
       " Row(page='Add to Playlist', count=6526),\n",
       " Row(page='Add Friend', count=4277),\n",
       " Row(page='Roll Advert', count=3933),\n",
       " Row(page='Login', count=3241),\n",
       " Row(page='Logout', count=3226),\n",
       " Row(page='Thumbs Down', count=2546),\n",
       " Row(page='Downgrade', count=2055),\n",
       " Row(page='Help', count=1726),\n",
       " Row(page='Settings', count=1514),\n",
       " Row(page='About', count=924),\n",
       " Row(page='Upgrade', count=499),\n",
       " Row(page='Save Settings', count=310),\n",
       " Row(page='Error', count=258),\n",
       " Row(page='Submit Upgrade', count=159),\n",
       " Row(page='Submit Downgrade', count=63),\n",
       " Row(page='Cancel', count=52),\n",
       " Row(page='Cancellation Confirmation', count=52),\n",
       " Row(page='Register', count=18),\n",
       " Row(page='Submit Registration', count=5)]"
      ]
     },
     "execution_count": 8,
     "metadata": {},
     "output_type": "execute_result"
    }
   ],
   "source": [
    "# check distribution of page type\n",
    "data.groupBy('page').count().sort(desc('count')).collect()"
   ]
  },
  {
   "cell_type": "code",
   "execution_count": 9,
   "metadata": {},
   "outputs": [
    {
     "data": {
      "text/plain": [
       "[Row(auth='Logged In', count=278102),\n",
       " Row(auth='Logged Out', count=8249),\n",
       " Row(auth='Guest', count=97),\n",
       " Row(auth='Cancelled', count=52)]"
      ]
     },
     "execution_count": 9,
     "metadata": {},
     "output_type": "execute_result"
    }
   ],
   "source": [
    "# check distribution of auth state\n",
    "data.groupBy('auth').count().sort(desc('count')).collect()"
   ]
  },
  {
   "cell_type": "code",
   "execution_count": 10,
   "metadata": {},
   "outputs": [],
   "source": [
    "# drop 'Logged-Out' state and 'Guest' state\n",
    "df = data.filter(\"auth != 'Logged Out' and auth != 'Guest'\")"
   ]
  },
  {
   "cell_type": "markdown",
   "metadata": {},
   "source": [
    "---\n",
    "**'userId' check**"
   ]
  },
  {
   "cell_type": "code",
   "execution_count": 11,
   "metadata": {
    "scrolled": true
   },
   "outputs": [
    {
     "name": "stdout",
     "output_type": "stream",
     "text": [
      "+-------+-----------------+\n",
      "|summary|           userId|\n",
      "+-------+-----------------+\n",
      "|  count|           286500|\n",
      "|   mean|59682.02278593872|\n",
      "| stddev|109091.9499991047|\n",
      "|    min|                 |\n",
      "|    max|               99|\n",
      "+-------+-----------------+\n",
      "\n"
     ]
    }
   ],
   "source": [
    "# check user id statistics\n",
    "data.describe('userId').show()"
   ]
  },
  {
   "cell_type": "markdown",
   "metadata": {},
   "source": [
    ">The minimum value is empty string. Let's check the empty userId's rows as follows."
   ]
  },
  {
   "cell_type": "code",
   "execution_count": 12,
   "metadata": {},
   "outputs": [
    {
     "name": "stdout",
     "output_type": "stream",
     "text": [
      "+------+----------+---------+------+-------------+--------+------+-----+--------+------+-----+------------+---------+----+------+-------------+---------+------+\n",
      "|artist|      auth|firstName|gender|itemInSession|lastName|length|level|location|method| page|registration|sessionId|song|status|           ts|userAgent|userId|\n",
      "+------+----------+---------+------+-------------+--------+------+-----+--------+------+-----+------------+---------+----+------+-------------+---------+------+\n",
      "|  null|Logged Out|     null|  null|          100|    null|  null| free|    null|   GET| Home|        null|        8|null|   200|1538355745000|     null|      |\n",
      "|  null|Logged Out|     null|  null|          101|    null|  null| free|    null|   GET| Help|        null|        8|null|   200|1538355807000|     null|      |\n",
      "|  null|Logged Out|     null|  null|          102|    null|  null| free|    null|   GET| Home|        null|        8|null|   200|1538355841000|     null|      |\n",
      "|  null|Logged Out|     null|  null|          103|    null|  null| free|    null|   PUT|Login|        null|        8|null|   307|1538355842000|     null|      |\n",
      "|  null|Logged Out|     null|  null|            2|    null|  null| free|    null|   GET| Home|        null|      240|null|   200|1538356678000|     null|      |\n",
      "|  null|Logged Out|     null|  null|            3|    null|  null| free|    null|   PUT|Login|        null|      240|null|   307|1538356679000|     null|      |\n",
      "|  null|Logged Out|     null|  null|            0|    null|  null| free|    null|   PUT|Login|        null|      100|null|   307|1538358102000|     null|      |\n",
      "|  null|Logged Out|     null|  null|            0|    null|  null| free|    null|   PUT|Login|        null|      241|null|   307|1538360117000|     null|      |\n",
      "|  null|Logged Out|     null|  null|           14|    null|  null| free|    null|   GET| Home|        null|      187|null|   200|1538361527000|     null|      |\n",
      "|  null|Logged Out|     null|  null|           15|    null|  null| free|    null|   PUT|Login|        null|      187|null|   307|1538361528000|     null|      |\n",
      "+------+----------+---------+------+-------------+--------+------+-----+--------+------+-----+------------+---------+----+------+-------------+---------+------+\n",
      "only showing top 10 rows\n",
      "\n"
     ]
    }
   ],
   "source": [
    "data.filter('userId==\"\"').show(10)"
   ]
  },
  {
   "cell_type": "markdown",
   "metadata": {},
   "source": [
    ">It seems like these are garbage data, and they must be dropped."
   ]
  },
  {
   "cell_type": "code",
   "execution_count": 13,
   "metadata": {},
   "outputs": [],
   "source": [
    "# drop empty user id row\n",
    "df = df.filter('userId!=\"\"')"
   ]
  },
  {
   "cell_type": "markdown",
   "metadata": {},
   "source": [
    "---\n",
    "**'sessionId' check**"
   ]
  },
  {
   "cell_type": "code",
   "execution_count": 14,
   "metadata": {
    "scrolled": false
   },
   "outputs": [
    {
     "name": "stdout",
     "output_type": "stream",
     "text": [
      "+-------+-----------------+\n",
      "|summary|        sessionId|\n",
      "+-------+-----------------+\n",
      "|  count|           286500|\n",
      "|   mean|1041.526554973822|\n",
      "| stddev|726.7762634630741|\n",
      "|    min|                1|\n",
      "|    max|             2474|\n",
      "+-------+-----------------+\n",
      "\n"
     ]
    }
   ],
   "source": [
    "# check session id statistics\n",
    "data.describe('sessionId').show()"
   ]
  },
  {
   "cell_type": "markdown",
   "metadata": {},
   "source": [
    ">'sessionId' seems OK."
   ]
  },
  {
   "cell_type": "markdown",
   "metadata": {},
   "source": [
    "---\n",
    "**Data cleaning summary:**<br>\n",
    "Above data cleaning steps are combined into following script.<br>\n",
    ">PS: There is a feedback from feature engineering step and we also have to exclude rows of users who have only 1 song play count or less. The procedure is added into the end of script."
   ]
  },
  {
   "cell_type": "code",
   "execution_count": 4,
   "metadata": {},
   "outputs": [],
   "source": [
    "# Data Cleaner (subroutine)\n",
    "def add_data_cleaner():\n",
    "    '''\n",
    "    OUTPUT:\n",
    "    stages - (list) list of transformer to be used as 'stages' argument of pyspark Pipeline() constructor\n",
    "\n",
    "    DESCRIPTION:\n",
    "    This is a subroutine of create_preprocess_pipeline() function.\n",
    "    Stages added by this function will clean raw pyspark dataframe for next steps.\n",
    "    '''\n",
    "    stages = []  # pipeline stage list\n",
    "\n",
    "    # filter rows with userId==Null or sessionId==Null, just in case\n",
    "    sqlTrans = SQLTransformer(\n",
    "        statement=\"SELECT * FROM __THIS__ WHERE userId IS NOT NULL AND sessionId IS NOT NULL\")\n",
    "    stages.append(sqlTrans)\n",
    "\n",
    "    # drop empty user id row\n",
    "    sqlTrans = SQLTransformer(\n",
    "        statement=\"SELECT * FROM __THIS__ WHERE userId != ''\")\n",
    "    stages.append(sqlTrans)\n",
    "\n",
    "    # drop 'Logged-Out' state and 'Guest' state\n",
    "    sqlTrans = SQLTransformer(\n",
    "        statement=\"SELECT * FROM __THIS__ WHERE auth != 'Logged Out' AND auth != 'Guest'\")\n",
    "    stages.append(sqlTrans)\n",
    "\n",
    "    # exclude rows with user who has only one song play or less\n",
    "    sqlTrans = SQLTransformer(statement=\" \\\n",
    "        SELECT * \\\n",
    "        FROM __THIS__ \\\n",
    "        WHERE userId NOT IN ( \\\n",
    "            SELECT DISTINCT userId \\\n",
    "            FROM \\\n",
    "            (SELECT userId, page, \\\n",
    "                COUNT(CASE WHEN page = 'NextSong' THEN page END) \\\n",
    "                OVER(PARTITION BY userId) AS songCount \\\n",
    "            FROM __THIS__) AS user_page_count \\\n",
    "            WHERE user_page_count.songCount < 2)\")\n",
    "    stages.append(sqlTrans)\n",
    "\n",
    "    return stages"
   ]
  },
  {
   "cell_type": "markdown",
   "metadata": {},
   "source": [
    "The script is in form of transformer in order to combine with label definition and feature engineering steps and put into one pipeline.<br>\n",
    "For data cleaning only, it can be used as follows."
   ]
  },
  {
   "cell_type": "code",
   "execution_count": 5,
   "metadata": {},
   "outputs": [],
   "source": [
    "# clean 'data' and output into 'df' dataframe\n",
    "stages = add_data_cleaner()\n",
    "pipeline = Pipeline(stages=stages)\n",
    "model = pipeline.fit(data)\n",
    "df = model.transform(data)"
   ]
  },
  {
   "cell_type": "markdown",
   "metadata": {},
   "source": [
    "---\n",
    "# Exploratory Data Analysis\n",
    "When you're working with the full dataset, perform EDA by loading a small subset of the data and doing basic manipulations within Spark. In this workspace, you are already provided a small subset of data you can explore.\n",
    "\n",
    "### Define Churn\n",
    "\n",
    "Once you've done some preliminary analysis, create a column `Churn` to use as the label for your model. I suggest using the `Cancellation Confirmation` events to define your churn, which happen for both paid and free users. As a bonus task, you can also look into the `Downgrade` events.\n",
    "\n",
    "### Explore Data\n",
    "Once you've defined churn, perform some exploratory data analysis to observe the behavior for users who stayed vs users who churned. You can start by exploring aggregates on these two groups of users, observing how much of a specific action they experienced per a certain time unit or number of songs played."
   ]
  },
  {
   "cell_type": "markdown",
   "metadata": {},
   "source": [
    "---\n",
    "### Label Definition\n",
    "First, let's prepare 'Churn' column as label."
   ]
  },
  {
   "cell_type": "code",
   "execution_count": 345,
   "metadata": {},
   "outputs": [],
   "source": [
    "# define churn event as 'Cancellation Confirmation' and add a column to store the churn event\n",
    "flag_churn_event = udf(lambda page: 1 if page == 'Cancellation Confirmation' else 0,\n",
    "                       IntegerType())\n",
    "\n",
    "df = df.withColumn('churn_event', flag_churn_event('page'))\n",
    "\n",
    "# add a column to store cumulative sum of the churn flag as label\n",
    "user_window = Window \\\n",
    "    .partitionBy('userId') \\\n",
    "\n",
    "df = df.withColumn('Churn', max('churn_event').over(user_window))"
   ]
  },
  {
   "cell_type": "code",
   "execution_count": 283,
   "metadata": {},
   "outputs": [
    {
     "name": "stdout",
     "output_type": "stream",
     "text": [
      "+-----+----------------------+\n",
      "|Churn|count(DISTINCT userId)|\n",
      "+-----+----------------------+\n",
      "|    1|                    52|\n",
      "|    0|                   173|\n",
      "+-----+----------------------+\n",
      "\n"
     ]
    }
   ],
   "source": [
    "# check number of users in each group\n",
    "df.groupBy('Churn').agg(countDistinct('userId')).show()"
   ]
  },
  {
   "cell_type": "code",
   "execution_count": 284,
   "metadata": {},
   "outputs": [
    {
     "name": "stdout",
     "output_type": "stream",
     "text": [
      "+------------------+\n",
      "|        avg(Churn)|\n",
      "+------------------+\n",
      "|0.2311111111111111|\n",
      "+------------------+\n",
      "\n"
     ]
    }
   ],
   "source": [
    "# churn rate\n",
    "df.groupBy('userId').agg(max('Churn').alias('Churn')).agg(avg('Churn')).show()"
   ]
  },
  {
   "cell_type": "markdown",
   "metadata": {},
   "source": [
    ">Churn users are about 23% in all users.\n",
    "\n",
    "Now label column is added and we have to check whether there is any other informations directly correlating to it.<br>\n",
    "Spacifically, we check 'page' column to find 'churn' specific events."
   ]
  },
  {
   "cell_type": "code",
   "execution_count": 346,
   "metadata": {},
   "outputs": [],
   "source": [
    "# collect unique events for churn and no-churn users\n",
    "churn_pages = df.filter('Churn == 1').select('page').distinct().collect()\n",
    "no_churn_pages = df.filter('Churn == 0').select('page').distinct().collect()"
   ]
  },
  {
   "cell_type": "code",
   "execution_count": 347,
   "metadata": {},
   "outputs": [
    {
     "name": "stdout",
     "output_type": "stream",
     "text": [
      "Churn - NO-Churn {Row(page='Cancellation Confirmation'), Row(page='Cancel')}\n",
      "No-Churn - Churn set()\n"
     ]
    }
   ],
   "source": [
    "# check delta of the two sets\n",
    "print('Churn - NO-Churn', set(churn_pages) - set(no_churn_pages))\n",
    "print('No-Churn - Churn', set(no_churn_pages) - set(churn_pages))"
   ]
  },
  {
   "cell_type": "markdown",
   "metadata": {},
   "source": [
    ">Churn specific events are 'Cancellation Confirmation' and 'Cancel'.<br>\n",
    "They don't be dropped now, but they will be excluded in feature engineering step.\n",
    "\n",
    "Just in case, we also check the very last event of churn users."
   ]
  },
  {
   "cell_type": "code",
   "execution_count": 348,
   "metadata": {},
   "outputs": [
    {
     "name": "stdout",
     "output_type": "stream",
     "text": [
      "+--------------------+-----+\n",
      "|          last_event|count|\n",
      "+--------------------+-----+\n",
      "|              Cancel|    1|\n",
      "|Cancellation Conf...|   51|\n",
      "+--------------------+-----+\n",
      "\n"
     ]
    }
   ],
   "source": [
    "# find the last event of churn user\n",
    "user_desc_prec_window = Window \\\n",
    "    .partitionBy('userId') \\\n",
    "    .orderBy(desc('ts')) \\\n",
    "    .rowsBetween(Window.unboundedPreceding, Window.currentRow)\n",
    "\n",
    "df.filter('Churn==1').sort(desc('ts')).groupBy('userId').agg(\n",
    "    first('page').alias('last_event')).groupBy('last_event').count().show()"
   ]
  },
  {
   "cell_type": "markdown",
   "metadata": {},
   "source": [
    ">Either of the two can be the last event for churn users."
   ]
  },
  {
   "cell_type": "markdown",
   "metadata": {},
   "source": [
    "---\n",
    "**Label definition summary:**<br>\n",
    "Above label definition steps are combined into following script.<br>"
   ]
  },
  {
   "cell_type": "code",
   "execution_count": 5,
   "metadata": {},
   "outputs": [],
   "source": [
    "# Label Maker (subroutine)\n",
    "def add_label_maker(stages):\n",
    "    '''\n",
    "    INPUT:\n",
    "    stages - (list) list of transformer to be used as 'stages' argument of pyspark Pipeline() constructor\n",
    "                It should be an output of 'create_data_cleaner()' function.\n",
    "\n",
    "    OUTPUT:\n",
    "    stages - (list) list of transformer to be used as 'stages' argument of pyspark Pipeline() constructor\n",
    "\n",
    "    DESCRIPTION:\n",
    "    This is a subroutine of create_preprocess_pipeline() function.\n",
    "    Stages added by this function will make label column in target pyspark dataframe.\n",
    "    It also drops rows which the label column directly depends on.\n",
    "    '''\n",
    "    # 'churn_event'\n",
    "    # add a column to store churn event as integer\n",
    "    sqlTrans = SQLTransformer(statement=\" \\\n",
    "        SELECT *, \\\n",
    "            CASE WHEN page = 'Cancellation Confirmation' THEN 1 ELSE 0 END AS churn_event \\\n",
    "        FROM __THIS__\")\n",
    "    stages.append(sqlTrans)\n",
    "\n",
    "    # 'Churn'\n",
    "    # add a column to store cumulative sum of churn flag\n",
    "    sqlTrans = SQLTransformer(statement=\" \\\n",
    "        SELECT *, \\\n",
    "            MAX(churn_event) OVER ( \\\n",
    "                PARTITION BY userId \\\n",
    "            ) AS Churn \\\n",
    "        FROM __THIS__\")\n",
    "    stages.append(sqlTrans)\n",
    "\n",
    "    return stages"
   ]
  },
  {
   "cell_type": "markdown",
   "metadata": {},
   "source": [
    "The script is in form of transformer so that it can be combined with data cleaning and feature engineering steps and put into one pipeline.<br>\n",
    "For data cleaning and label definition, it can be used as follows."
   ]
  },
  {
   "cell_type": "code",
   "execution_count": 7,
   "metadata": {},
   "outputs": [],
   "source": [
    "# clean 'data' and define label, then output into 'df' dataframe\n",
    "stages = add_data_cleaner()\n",
    "stages = add_label_maker(stages)  # this needs to follow data cleaning step\n",
    "pipeline = Pipeline(stages=stages)\n",
    "model = pipeline.fit(data)\n",
    "df = model.transform(data)"
   ]
  },
  {
   "cell_type": "markdown",
   "metadata": {},
   "source": [
    "---\n",
    "### Feature Exploration\n",
    "We will explore features that can be obtained from data, comparing churn and no-churn user groups.<br>\n",
    "We could explore all possible features, but this time, we will focus on time series data."
   ]
  },
  {
   "cell_type": "markdown",
   "metadata": {},
   "source": [
    "**Event distribution**<br>\n",
    "First, we visualize event distribution in timeline to see if there is some difference in patterns between churn and no-churn.<br>\n",
    "Seaborn heatmap will be used for visualization."
   ]
  },
  {
   "cell_type": "code",
   "execution_count": 22,
   "metadata": {},
   "outputs": [],
   "source": [
    "# index page colum\n",
    "indexer = StringIndexer(inputCol='page', outputCol='event')\n",
    "indexerModel = indexer.fit(df)\n",
    "df_event = indexerModel.transform(df)"
   ]
  },
  {
   "cell_type": "code",
   "execution_count": 68,
   "metadata": {},
   "outputs": [],
   "source": [
    "# change to pandas dataframe for visualization\n",
    "pd_event = df_event.toPandas()"
   ]
  },
  {
   "cell_type": "code",
   "execution_count": 69,
   "metadata": {},
   "outputs": [],
   "source": [
    "# change ts into second unit\n",
    "pd_event['ts'] = pd_event['ts'].apply(lambda x: int(x / 1000))"
   ]
  },
  {
   "cell_type": "code",
   "execution_count": 146,
   "metadata": {},
   "outputs": [
    {
     "data": {
      "text/plain": [
       "(52, 173)"
      ]
     },
     "execution_count": 146,
     "metadata": {},
     "output_type": "execute_result"
    }
   ],
   "source": [
    "# create user id list for both groups\n",
    "churn_users = pd_event.query('Churn==1')['userId'].unique()\n",
    "no_churn_users = pd_event.query('Churn==0')['userId'].unique()\n",
    "len(churn_users), len(no_churn_users)"
   ]
  },
  {
   "cell_type": "code",
   "execution_count": 147,
   "metadata": {
    "scrolled": false
   },
   "outputs": [
    {
     "name": "stdout",
     "output_type": "stream",
     "text": [
      "(15, 17473)\n",
      "(15, 25374)\n"
     ]
    }
   ],
   "source": [
    "# sample from each user list and extract ts-userId event table\n",
    "\n",
    "# we can shuffle if we want by enable following two lines\n",
    "# np.random.shuffle(churn_users)\n",
    "# np.random.shuffle(no_churn_users)\n",
    "\n",
    "pd_churn_users = pd_event[pd_event['userId'].isin(churn_users[:15])] \\\n",
    "    .groupby(['ts'])['userId', 'event'].min()\n",
    "pd_no_churn_users = pd_event[pd_event['userId'].isin(no_churn_users[:15])] \\\n",
    "    .groupby(['ts'])['userId', 'event'].min()\n",
    "\n",
    "# pivot table and transpose to make ts-userId event table\n",
    "pd_churn_users = pd_churn_users \\\n",
    "    .pivot(columns='userId', values='event').transpose()\n",
    "pd_no_churn_users = pd_no_churn_users \\\n",
    "    .pivot(columns='userId', values='event').transpose()\n",
    "\n",
    "# check shape of tables\n",
    "print(pd_churn_users.shape)\n",
    "print(pd_no_churn_users.shape)"
   ]
  },
  {
   "cell_type": "code",
   "execution_count": 148,
   "metadata": {
    "scrolled": false
   },
   "outputs": [
    {
     "data": {
      "image/png": "[encoded data removed]",
      "text/plain": [
       "<matplotlib.figure.Figure at 0x7fac28d1d4a8>"
      ]
     },
     "metadata": {
      "needs_background": "light"
     },
     "output_type": "display_data"
    }
   ],
   "source": [
    "# heat map (full ts range)\n",
    "fig, ax = plt.subplots(2, 1, figsize=(20, 15), sharex=True)\n",
    "facet0 = sns.heatmap(ax=ax[0], data=pd_churn_users,\n",
    "                     cmap='tab20', vmin=0, vmax=20)\n",
    "# facet0.set_facecolor('silver')\n",
    "ax[0].set_title('Churn users: Event heatmap in timeline')\n",
    "facet1 = sns.heatmap(ax=ax[1], data=pd_no_churn_users,\n",
    "                     cmap='tab20', vmin=0, vmax=20)\n",
    "# facet1.set_facecolor('silver')\n",
    "ax[1].set_title('No-churn users: Event heatmap in timeline')\n",
    "plt.subplots_adjust(hspace=0.5)\n",
    "plt.show()"
   ]
  },
  {
   "cell_type": "markdown",
   "metadata": {},
   "source": [
    ">It is for granted, but churn users activities are relatively shorter in dataset. But using the service period directly does not make sense if we want to make a churn prediction model. \n",
    "\n",
    "Next, let's zoom in to the last 1000 events experience."
   ]
  },
  {
   "cell_type": "code",
   "execution_count": 144,
   "metadata": {},
   "outputs": [
    {
     "name": "stdout",
     "output_type": "stream",
     "text": [
      "[(0, 'NextSong'), (1, 'Thumbs Up'), (2, 'Home'), (3, 'Add to Playlist'), (4, 'Add Friend'), (5, 'Roll Advert'), (6, 'Logout'), (7, 'Thumbs Down'), (8, 'Downgrade'), (9, 'Settings'), (10, 'Help'), (11, 'Upgrade'), (12, 'About'), (13, 'Save Settings'), (14, 'Error'), (15, 'Submit Upgrade'), (16, 'Submit Downgrade'), (17, 'Cancellation Confirmation'), (18, 'Cancel')]\n"
     ]
    }
   ],
   "source": [
    "# the number in chart and event name mapping can be obtained as follows\n",
    "i_and_label = [(i, label) for (i, label) in enumerate(indexerModel.labels)]\n",
    "print(i_and_label)"
   ]
  },
  {
   "cell_type": "code",
   "execution_count": 149,
   "metadata": {
    "scrolled": false
   },
   "outputs": [
    {
     "data": {
      "image/png": "[encoded data removed]",
      "text/plain": [
       "<matplotlib.figure.Figure at 0x7fac32ac1e80>"
      ]
     },
     "metadata": {
      "needs_background": "light"
     },
     "output_type": "display_data"
    }
   ],
   "source": [
    "# heat map (last 1000 ts of churn)\n",
    "ts_start = pd_churn_users.shape[1] - 1000\n",
    "ts_end = pd_churn_users.shape[1]\n",
    "fig, ax = plt.subplots(2, 1, figsize=(20, 15), sharex=True)\n",
    "facet0 = sns.heatmap(ax=ax[0], data=pd_churn_users.iloc[:, ts_start:ts_end],\n",
    "                     cmap='tab20', vmin=0, vmax=20)\n",
    "# facet0.set_facecolor('black')\n",
    "ax[0].set_title('Churn users: Event heatmap in timeline')\n",
    "facet1 = sns.heatmap(ax=ax[1], data=pd_no_churn_users.iloc[:, ts_start:ts_end],\n",
    "                     cmap='tab20', vmin=0, vmax=20)\n",
    "# facet1.set_facecolor('black')\n",
    "ax[1].set_title('No-churn users: Event heatmap in timeline')\n",
    "plt.subplots_adjust(hspace=0.5)\n",
    "plt.show()"
   ]
  },
  {
   "cell_type": "markdown",
   "metadata": {},
   "source": [
    ">In this scale, we can see difference of patterns. No-churn users have more short blanks between events.<br>\n",
    "In order to quantify these blank patterns, we could calculate intervals between events.\n",
    "\n",
    "We continue to check if average event intervals are different between churn and no-churn users.<br>\n",
    "We will also check if we can use level information (paid or free)."
   ]
  },
  {
   "cell_type": "code",
   "execution_count": 294,
   "metadata": {},
   "outputs": [],
   "source": [
    "# clean 'data' and define label, then output into 'df' dataframe\n",
    "stages = add_data_cleaner()\n",
    "stages = add_label_maker(stages)  # this needs to follow data cleaning step\n",
    "pipeline = Pipeline(stages=stages)\n",
    "model = pipeline.fit(data)\n",
    "df = model.transform(data)"
   ]
  },
  {
   "cell_type": "code",
   "execution_count": 295,
   "metadata": {},
   "outputs": [
    {
     "name": "stdout",
     "output_type": "stream",
     "text": [
      "+------+-------------+---------+--------+\n",
      "|userId|           ts|     page|interval|\n",
      "+------+-------------+---------+--------+\n",
      "|    10|1538965220000| NextSong|   265.0|\n",
      "|    10|1538965485000| NextSong|   200.0|\n",
      "|    10|1538965685000| NextSong|   208.0|\n",
      "|    10|1538965893000| NextSong|   526.0|\n",
      "|    10|1538966419000| NextSong|   272.0|\n",
      "|    10|1538966691000| NextSong|   207.0|\n",
      "|    10|1538966898000| NextSong|   106.0|\n",
      "|    10|1538966899000|Thumbs Up|  1212.0|\n",
      "|    10|1538967004000| NextSong|   239.0|\n",
      "|    10|1538967243000| NextSong|   264.0|\n",
      "+------+-------------+---------+--------+\n",
      "only showing top 10 rows\n",
      "\n"
     ]
    }
   ],
   "source": [
    "# add a column to store event interval till next event\n",
    "user_page_desc_one_prec = Window \\\n",
    "    .partitionBy('userId', 'page') \\\n",
    "    .orderBy(desc('ts')) \\\n",
    "    .rowsBetween(-1, Window.currentRow)\n",
    "\n",
    "df = df.withColumn('interval', first('ts').over(\n",
    "    user_page_desc_one_prec)/1000 - last('ts').over(user_page_desc_one_prec)/1000)\n",
    "\n",
    "# check the head of events\n",
    "df.select('userId', 'ts', 'page', 'interval').sort('userId', 'ts').show(10)"
   ]
  },
  {
   "cell_type": "code",
   "execution_count": 296,
   "metadata": {
    "scrolled": true
   },
   "outputs": [
    {
     "name": "stdout",
     "output_type": "stream",
     "text": [
      "+------+-------------+---------------+--------+\n",
      "|userId|           ts|           page|interval|\n",
      "+------+-------------+---------------+--------+\n",
      "|    10|1542631788000|      Downgrade|     0.0|\n",
      "|    10|1542631753000|       NextSong|     0.0|\n",
      "|    10|1542631690000|           Home|     0.0|\n",
      "|    10|1542631518000|         Logout|     0.0|\n",
      "|    10|1542631517000|       NextSong|   236.0|\n",
      "|    10|1542631090000|       NextSong|   427.0|\n",
      "|    10|1542630866000|       NextSong|   224.0|\n",
      "|    10|1542630637000|       NextSong|   229.0|\n",
      "|    10|1542630407000|Add to Playlist|     0.0|\n",
      "|    10|1542630394000|       NextSong|   243.0|\n",
      "+------+-------------+---------------+--------+\n",
      "only showing top 10 rows\n",
      "\n"
     ]
    }
   ],
   "source": [
    "# and the tail\n",
    "df.select('userId', 'ts', 'page', 'interval').sort(\n",
    "    'userId', desc('ts')).show(10)"
   ]
  },
  {
   "cell_type": "markdown",
   "metadata": {},
   "source": [
    ">The last event rows are filled with zeros, but these are by self TS minus self TS. These rows must be excluded from interval calculations.<br>\n",
    "But it also means that if a type of event appears only once in user data, it will be dropped by the exclusion and we lose information of the event. In order to avoid that, for other events than song play, we will use event count divided by total number of song plays instead of intervals.<br>\n",
    "\n",
    "We modify the original exploration target, and continue to seek following.<br>\n",
    "* NextSong:\n",
    "    * Average interval\n",
    "    * Paid song ratio\n",
    "    \n",
    "* Other events:\n",
    "    * Event count per song<br>"
   ]
  },
  {
   "cell_type": "code",
   "execution_count": 297,
   "metadata": {
    "scrolled": true
   },
   "outputs": [
    {
     "name": "stdout",
     "output_type": "stream",
     "text": [
      "+------+-------------+---------------+--------+-------------+\n",
      "|userId|           ts|           page|interval|       lastTS|\n",
      "+------+-------------+---------------+--------+-------------+\n",
      "|    10|1542631788000|      Downgrade|     0.0|1542631788000|\n",
      "|    10|1542631753000|       NextSong|     0.0|1542631753000|\n",
      "|    10|1542631690000|           Home|     0.0|1542631690000|\n",
      "|    10|1542631518000|         Logout|     0.0|1542631518000|\n",
      "|    10|1542631517000|       NextSong|   236.0|1542631753000|\n",
      "|    10|1542631090000|       NextSong|   427.0|1542631753000|\n",
      "|    10|1542630866000|       NextSong|   224.0|1542631753000|\n",
      "|    10|1542630637000|       NextSong|   229.0|1542631753000|\n",
      "|    10|1542630407000|Add to Playlist|     0.0|1542630407000|\n",
      "|    10|1542630394000|       NextSong|   243.0|1542631753000|\n",
      "+------+-------------+---------------+--------+-------------+\n",
      "only showing top 10 rows\n",
      "\n"
     ]
    }
   ],
   "source": [
    "# we have to drop the last inverval 0.0\n",
    "user_page_desc_prec_window = Window \\\n",
    "    .partitionBy('userId', 'page') \\\n",
    "    .orderBy(desc('ts')) \\\n",
    "    .rowsBetween(Window.unboundedPreceding, Window.currentRow)\n",
    "\n",
    "# add a column to store the last TS for each user, each page\n",
    "df = df.withColumn('lastTS', first('ts').over(user_page_desc_prec_window))\n",
    "\n",
    "# check the tail\n",
    "df.select('userId', 'ts', 'page', 'interval', 'lastTS') \\\n",
    "    .sort('userId', desc('ts')).show(10)"
   ]
  },
  {
   "cell_type": "code",
   "execution_count": 298,
   "metadata": {
    "scrolled": true
   },
   "outputs": [
    {
     "name": "stdout",
     "output_type": "stream",
     "text": [
      "+------+-------------+---------------+--------+-------------+------------+\n",
      "|userId|           ts|           page|interval|       lastTS|trueInterval|\n",
      "+------+-------------+---------------+--------+-------------+------------+\n",
      "|    10|1542631788000|      Downgrade|     0.0|1542631788000|        null|\n",
      "|    10|1542631753000|       NextSong|     0.0|1542631753000|        null|\n",
      "|    10|1542631690000|           Home|     0.0|1542631690000|        null|\n",
      "|    10|1542631518000|         Logout|     0.0|1542631518000|        null|\n",
      "|    10|1542631517000|       NextSong|   236.0|1542631753000|       236.0|\n",
      "|    10|1542631090000|       NextSong|   427.0|1542631753000|       427.0|\n",
      "|    10|1542630866000|       NextSong|   224.0|1542631753000|       224.0|\n",
      "|    10|1542630637000|       NextSong|   229.0|1542631753000|       229.0|\n",
      "|    10|1542630407000|Add to Playlist|     0.0|1542630407000|        null|\n",
      "|    10|1542630394000|       NextSong|   243.0|1542631753000|       243.0|\n",
      "+------+-------------+---------------+--------+-------------+------------+\n",
      "only showing top 10 rows\n",
      "\n"
     ]
    }
   ],
   "source": [
    "# set the last TS row's interval value to Null\n",
    "df = df.withColumn('trueInterval', when(col('ts') == col('lastTS'),\n",
    "                                        lit(None).cast(StringType())).otherwise(col('interval')))\n",
    "\n",
    "# check the tail\n",
    "df.select('userId', 'ts', 'page', 'interval', 'lastTS', 'trueInterval') \\\n",
    "    .sort('userId', desc('ts')).show(10)"
   ]
  },
  {
   "cell_type": "code",
   "execution_count": 299,
   "metadata": {
    "scrolled": false
   },
   "outputs": [
    {
     "name": "stdout",
     "output_type": "stream",
     "text": [
      "+-----+------+---------------+------------------+---------+---------+---------+\n",
      "|Churn|userId|           page|      trueInterval|pageCount|paidCount|songCount|\n",
      "+-----+------+---------------+------------------+---------+---------+---------+\n",
      "|    0|100010|          About|              null|        1|        0|        0|\n",
      "|    0|100010|     Add Friend|          571066.0|        4|        0|        0|\n",
      "|    0|100010|Add to Playlist|          519672.5|        7|        0|        0|\n",
      "|    0|100010|           Help|         1722739.0|        2|        0|        0|\n",
      "|    0|100010|           Home|          321404.3|       11|        0|        0|\n",
      "|    0|100010|         Logout|         804819.25|        5|        0|        0|\n",
      "|    0|100010|       NextSong|13943.127737226278|      275|        0|      275|\n",
      "|    0|100010|    Roll Advert| 74868.54901960785|       52|        0|        0|\n",
      "|    0|100010|    Thumbs Down|          777999.0|        5|        0|        0|\n",
      "|    0|100010|      Thumbs Up|       238625.6875|       17|        0|        0|\n",
      "|    0|100010|        Upgrade|         2764117.0|        2|        0|        0|\n",
      "|    0|200002|          About|         1909733.5|        3|        0|        0|\n",
      "|    0|200002|     Add Friend|          458080.0|        4|        0|        0|\n",
      "|    0|200002|Add to Playlist| 558821.5714285715|        8|        0|        0|\n",
      "|    0|200002|      Downgrade|          614688.5|        5|        0|        0|\n",
      "|    0|200002|           Help|         2442225.0|        2|        0|        0|\n",
      "|    0|200002|           Home|200647.52631578947|       20|        0|        0|\n",
      "|    0|200002|         Logout|         951659.25|        5|        0|        0|\n",
      "|    0|200002|       NextSong|10183.738341968912|      387|      300|      387|\n",
      "|    0|200002|    Roll Advert|243161.16666666666|        7|        0|        0|\n",
      "+-----+------+---------------+------------------+---------+---------+---------+\n",
      "only showing top 20 rows\n",
      "\n"
     ]
    }
   ],
   "source": [
    "# group by userId and page\n",
    "# we get average of interval for NextSong, and count for other events\n",
    "# we also count paid songs, and total songs\n",
    "df_interval = df.groupBy('Churn', 'userId', 'page') \\\n",
    "    .agg(avg('trueInterval').alias('trueInterval'),\n",
    "         count('page').alias('pageCount'),\n",
    "         count(when((col('page') == 'NextSong') & (col('level') == 'paid'),\n",
    "                    col('page'))).alias('paidCount'),\n",
    "         count(when(col('page') == 'NextSong', col('page'))).alias('songCount'))\n",
    "\n",
    "df_interval.show()"
   ]
  },
  {
   "cell_type": "code",
   "execution_count": 300,
   "metadata": {},
   "outputs": [
    {
     "name": "stdout",
     "output_type": "stream",
     "text": [
      "+-----+------+---------------+------------------+---------+---------+---------+------------------+\n",
      "|Churn|userId|           page|      trueInterval|pageCount|paidCount|songCount|      songInterval|\n",
      "+-----+------+---------------+------------------+---------+---------+---------+------------------+\n",
      "|    0|100010|          About|              null|        1|        0|        0|              null|\n",
      "|    0|100010|     Add Friend|          571066.0|        4|        0|        0|              null|\n",
      "|    0|100010|Add to Playlist|          519672.5|        7|        0|        0|              null|\n",
      "|    0|100010|           Help|         1722739.0|        2|        0|        0|              null|\n",
      "|    0|100010|           Home|          321404.3|       11|        0|        0|              null|\n",
      "|    0|100010|         Logout|         804819.25|        5|        0|        0|              null|\n",
      "|    0|100010|       NextSong|13943.127737226278|      275|        0|      275|13943.127737226278|\n",
      "|    0|100010|    Roll Advert| 74868.54901960785|       52|        0|        0|              null|\n",
      "|    0|100010|    Thumbs Down|          777999.0|        5|        0|        0|              null|\n",
      "|    0|100010|      Thumbs Up|       238625.6875|       17|        0|        0|              null|\n",
      "|    0|100010|        Upgrade|         2764117.0|        2|        0|        0|              null|\n",
      "|    0|200002|          About|         1909733.5|        3|        0|        0|              null|\n",
      "|    0|200002|     Add Friend|          458080.0|        4|        0|        0|              null|\n",
      "|    0|200002|Add to Playlist| 558821.5714285715|        8|        0|        0|              null|\n",
      "|    0|200002|      Downgrade|          614688.5|        5|        0|        0|              null|\n",
      "|    0|200002|           Help|         2442225.0|        2|        0|        0|              null|\n",
      "|    0|200002|           Home|200647.52631578947|       20|        0|        0|              null|\n",
      "|    0|200002|         Logout|         951659.25|        5|        0|        0|              null|\n",
      "|    0|200002|       NextSong|10183.738341968912|      387|      300|      387|10183.738341968912|\n",
      "|    0|200002|    Roll Advert|243161.16666666666|        7|        0|        0|              null|\n",
      "+-----+------+---------------+------------------+---------+---------+---------+------------------+\n",
      "only showing top 20 rows\n",
      "\n"
     ]
    }
   ],
   "source": [
    "# add a column to store interval when page is NextSong\n",
    "df_interval = df_interval.withColumn('songInterval',\n",
    "                                     when(col('page') == 'NextSong', col('trueInterval')))\n",
    "\n",
    "df_interval.show()"
   ]
  },
  {
   "cell_type": "code",
   "execution_count": 301,
   "metadata": {
    "scrolled": true
   },
   "outputs": [
    {
     "name": "stdout",
     "output_type": "stream",
     "text": [
      "['About', 'Add Friend', 'Add to Playlist', 'Downgrade', 'Error', 'Help', 'Home', 'Logout', 'Roll Advert', 'Save Settings', 'Settings', 'Submit Downgrade', 'Submit Upgrade', 'Thumbs Down', 'Thumbs Up', 'Upgrade']\n"
     ]
    }
   ],
   "source": [
    "# get event name list\n",
    "event_names = df.select('page').distinct().sort('page').collect()\n",
    "event_names = [item.page for item in event_names]\n",
    "\n",
    "# drop following items from list\n",
    "event_names.remove('NextSong')\n",
    "event_names.remove('Cancel')\n",
    "event_names.remove('Cancellation Confirmation')\n",
    "\n",
    "print(event_names)"
   ]
  },
  {
   "cell_type": "code",
   "execution_count": 302,
   "metadata": {},
   "outputs": [
    {
     "name": "stdout",
     "output_type": "stream",
     "text": [
      "+-----+------+------------------+------------------+--------------------+--------------------+\n",
      "|Churn|userId|      songInterval|         paidRatio|               About|                Home|\n",
      "+-----+------+------------------+------------------+--------------------+--------------------+\n",
      "|    0|100010|13943.127737226278|               0.0|0.003636363636363...|0.003636363636363...|\n",
      "|    0|200002|10183.738341968912|0.7751937984496124|0.002583979328165375|0.002583979328165375|\n",
      "|    1|   125|251.71428571428572|               0.0|                 0.0|                 0.0|\n",
      "|    0|   124|1253.9688572829818|               1.0|2.451581269919097...|2.451581269919097...|\n",
      "|    1|    51|  646.008056872038|               1.0|4.737091425864519E-4|4.737091425864519E-4|\n",
      "+-----+------+------------------+------------------+--------------------+--------------------+\n",
      "only showing top 5 rows\n",
      "\n"
     ]
    }
   ],
   "source": [
    "# group by userId, average song intervals, and count other events and vidide them by songCount\n",
    "# also add ratio of paid song\n",
    "agg_list = []\n",
    "\n",
    "for name in event_names:\n",
    "    agg_list.append((count(when(col('page') == '{}'.format(name),\n",
    "                                col('pageCount'))) / Fsum('songCount')).alias('{}'.format(name)))\n",
    "\n",
    "df_interval = df_interval.groupBy('Churn', 'userId') \\\n",
    "    .agg(max('songInterval').alias('songInterval'),\n",
    "         (max('paidCount') / max('songCount')).alias('paidRatio'),\n",
    "         *agg_list)\n",
    "\n",
    "df_interval.select('Churn', 'userId', 'songInterval',\n",
    "                   'paidRatio', 'About', 'Home').show(5)"
   ]
  },
  {
   "cell_type": "code",
   "execution_count": 303,
   "metadata": {},
   "outputs": [],
   "source": [
    "# change to pandas dataframe for visualization\n",
    "pd_interval = df_interval.toPandas()"
   ]
  },
  {
   "cell_type": "code",
   "execution_count": 304,
   "metadata": {},
   "outputs": [
    {
     "data": {
      "text/html": [
       "<div>\n",
       "<style>\n",
       "    .dataframe thead tr:only-child th {\n",
       "        text-align: right;\n",
       "    }\n",
       "\n",
       "    .dataframe thead th {\n",
       "        text-align: left;\n",
       "    }\n",
       "\n",
       "    .dataframe tbody tr th {\n",
       "        vertical-align: top;\n",
       "    }\n",
       "</style>\n",
       "<table border=\"1\" class=\"dataframe\">\n",
       "  <thead>\n",
       "    <tr style=\"text-align: right;\">\n",
       "      <th></th>\n",
       "      <th>Churn</th>\n",
       "      <th>userId</th>\n",
       "      <th>songInterval</th>\n",
       "      <th>paidRatio</th>\n",
       "      <th>About</th>\n",
       "      <th>Add Friend</th>\n",
       "      <th>Add to Playlist</th>\n",
       "      <th>Downgrade</th>\n",
       "      <th>Error</th>\n",
       "      <th>Help</th>\n",
       "      <th>Home</th>\n",
       "      <th>Logout</th>\n",
       "      <th>Roll Advert</th>\n",
       "      <th>Save Settings</th>\n",
       "      <th>Settings</th>\n",
       "      <th>Submit Downgrade</th>\n",
       "      <th>Submit Upgrade</th>\n",
       "      <th>Thumbs Down</th>\n",
       "      <th>Thumbs Up</th>\n",
       "      <th>Upgrade</th>\n",
       "    </tr>\n",
       "  </thead>\n",
       "  <tbody>\n",
       "    <tr>\n",
       "      <th>0</th>\n",
       "      <td>0</td>\n",
       "      <td>100010</td>\n",
       "      <td>13943.127737</td>\n",
       "      <td>0.000000</td>\n",
       "      <td>0.003636</td>\n",
       "      <td>0.003636</td>\n",
       "      <td>0.003636</td>\n",
       "      <td>0.000000</td>\n",
       "      <td>0.000000</td>\n",
       "      <td>0.003636</td>\n",
       "      <td>0.003636</td>\n",
       "      <td>0.003636</td>\n",
       "      <td>0.003636</td>\n",
       "      <td>0.000000</td>\n",
       "      <td>0.000000</td>\n",
       "      <td>0.0</td>\n",
       "      <td>0.000000</td>\n",
       "      <td>0.003636</td>\n",
       "      <td>0.003636</td>\n",
       "      <td>0.003636</td>\n",
       "    </tr>\n",
       "    <tr>\n",
       "      <th>1</th>\n",
       "      <td>0</td>\n",
       "      <td>200002</td>\n",
       "      <td>10183.738342</td>\n",
       "      <td>0.775194</td>\n",
       "      <td>0.002584</td>\n",
       "      <td>0.002584</td>\n",
       "      <td>0.002584</td>\n",
       "      <td>0.002584</td>\n",
       "      <td>0.000000</td>\n",
       "      <td>0.002584</td>\n",
       "      <td>0.002584</td>\n",
       "      <td>0.002584</td>\n",
       "      <td>0.002584</td>\n",
       "      <td>0.000000</td>\n",
       "      <td>0.002584</td>\n",
       "      <td>0.0</td>\n",
       "      <td>0.002584</td>\n",
       "      <td>0.002584</td>\n",
       "      <td>0.002584</td>\n",
       "      <td>0.002584</td>\n",
       "    </tr>\n",
       "    <tr>\n",
       "      <th>2</th>\n",
       "      <td>1</td>\n",
       "      <td>125</td>\n",
       "      <td>251.714286</td>\n",
       "      <td>0.000000</td>\n",
       "      <td>0.000000</td>\n",
       "      <td>0.000000</td>\n",
       "      <td>0.000000</td>\n",
       "      <td>0.000000</td>\n",
       "      <td>0.000000</td>\n",
       "      <td>0.000000</td>\n",
       "      <td>0.000000</td>\n",
       "      <td>0.000000</td>\n",
       "      <td>0.125000</td>\n",
       "      <td>0.000000</td>\n",
       "      <td>0.000000</td>\n",
       "      <td>0.0</td>\n",
       "      <td>0.000000</td>\n",
       "      <td>0.000000</td>\n",
       "      <td>0.000000</td>\n",
       "      <td>0.000000</td>\n",
       "    </tr>\n",
       "    <tr>\n",
       "      <th>3</th>\n",
       "      <td>0</td>\n",
       "      <td>124</td>\n",
       "      <td>1253.968857</td>\n",
       "      <td>1.000000</td>\n",
       "      <td>0.000245</td>\n",
       "      <td>0.000245</td>\n",
       "      <td>0.000245</td>\n",
       "      <td>0.000245</td>\n",
       "      <td>0.000245</td>\n",
       "      <td>0.000245</td>\n",
       "      <td>0.000245</td>\n",
       "      <td>0.000245</td>\n",
       "      <td>0.000245</td>\n",
       "      <td>0.000245</td>\n",
       "      <td>0.000245</td>\n",
       "      <td>0.0</td>\n",
       "      <td>0.000000</td>\n",
       "      <td>0.000245</td>\n",
       "      <td>0.000245</td>\n",
       "      <td>0.000000</td>\n",
       "    </tr>\n",
       "    <tr>\n",
       "      <th>4</th>\n",
       "      <td>1</td>\n",
       "      <td>51</td>\n",
       "      <td>646.008057</td>\n",
       "      <td>1.000000</td>\n",
       "      <td>0.000474</td>\n",
       "      <td>0.000474</td>\n",
       "      <td>0.000474</td>\n",
       "      <td>0.000474</td>\n",
       "      <td>0.000474</td>\n",
       "      <td>0.000474</td>\n",
       "      <td>0.000474</td>\n",
       "      <td>0.000474</td>\n",
       "      <td>0.000000</td>\n",
       "      <td>0.000474</td>\n",
       "      <td>0.000474</td>\n",
       "      <td>0.0</td>\n",
       "      <td>0.000000</td>\n",
       "      <td>0.000474</td>\n",
       "      <td>0.000474</td>\n",
       "      <td>0.000000</td>\n",
       "    </tr>\n",
       "  </tbody>\n",
       "</table>\n",
       "</div>"
      ],
      "text/plain": [
       "   Churn  userId  songInterval  paidRatio     About  Add Friend  \\\n",
       "0      0  100010  13943.127737   0.000000  0.003636    0.003636   \n",
       "1      0  200002  10183.738342   0.775194  0.002584    0.002584   \n",
       "2      1     125    251.714286   0.000000  0.000000    0.000000   \n",
       "3      0     124   1253.968857   1.000000  0.000245    0.000245   \n",
       "4      1      51    646.008057   1.000000  0.000474    0.000474   \n",
       "\n",
       "   Add to Playlist  Downgrade     Error      Help      Home    Logout  \\\n",
       "0         0.003636   0.000000  0.000000  0.003636  0.003636  0.003636   \n",
       "1         0.002584   0.002584  0.000000  0.002584  0.002584  0.002584   \n",
       "2         0.000000   0.000000  0.000000  0.000000  0.000000  0.000000   \n",
       "3         0.000245   0.000245  0.000245  0.000245  0.000245  0.000245   \n",
       "4         0.000474   0.000474  0.000474  0.000474  0.000474  0.000474   \n",
       "\n",
       "   Roll Advert  Save Settings  Settings  Submit Downgrade  Submit Upgrade  \\\n",
       "0     0.003636       0.000000  0.000000               0.0        0.000000   \n",
       "1     0.002584       0.000000  0.002584               0.0        0.002584   \n",
       "2     0.125000       0.000000  0.000000               0.0        0.000000   \n",
       "3     0.000245       0.000245  0.000245               0.0        0.000000   \n",
       "4     0.000000       0.000474  0.000474               0.0        0.000000   \n",
       "\n",
       "   Thumbs Down  Thumbs Up   Upgrade  \n",
       "0     0.003636   0.003636  0.003636  \n",
       "1     0.002584   0.002584  0.002584  \n",
       "2     0.000000   0.000000  0.000000  \n",
       "3     0.000245   0.000245  0.000000  \n",
       "4     0.000474   0.000474  0.000000  "
      ]
     },
     "execution_count": 304,
     "metadata": {},
     "output_type": "execute_result"
    }
   ],
   "source": [
    "pd_interval.head()"
   ]
  },
  {
   "cell_type": "code",
   "execution_count": 305,
   "metadata": {
    "scrolled": true
   },
   "outputs": [
    {
     "data": {
      "text/html": [
       "<div>\n",
       "<style>\n",
       "    .dataframe thead tr:only-child th {\n",
       "        text-align: right;\n",
       "    }\n",
       "\n",
       "    .dataframe thead th {\n",
       "        text-align: left;\n",
       "    }\n",
       "\n",
       "    .dataframe tbody tr th {\n",
       "        vertical-align: top;\n",
       "    }\n",
       "</style>\n",
       "<table border=\"1\" class=\"dataframe\">\n",
       "  <thead>\n",
       "    <tr style=\"text-align: right;\">\n",
       "      <th></th>\n",
       "      <th>Churn</th>\n",
       "      <th>userId</th>\n",
       "      <th>songInterval</th>\n",
       "      <th>paidRatio</th>\n",
       "      <th>About</th>\n",
       "      <th>Add Friend</th>\n",
       "      <th>Add to Playlist</th>\n",
       "      <th>Downgrade</th>\n",
       "      <th>Error</th>\n",
       "      <th>Help</th>\n",
       "      <th>Home</th>\n",
       "      <th>Logout</th>\n",
       "      <th>Roll Advert</th>\n",
       "      <th>Save Settings</th>\n",
       "      <th>Settings</th>\n",
       "      <th>Submit Downgrade</th>\n",
       "      <th>Submit Upgrade</th>\n",
       "      <th>Thumbs Down</th>\n",
       "      <th>Thumbs Up</th>\n",
       "      <th>Upgrade</th>\n",
       "    </tr>\n",
       "  </thead>\n",
       "  <tbody>\n",
       "    <tr>\n",
       "      <th>0</th>\n",
       "      <td>No-Churn</td>\n",
       "      <td>100010</td>\n",
       "      <td>3.873091</td>\n",
       "      <td>0.000000</td>\n",
       "      <td>0.003636</td>\n",
       "      <td>0.003636</td>\n",
       "      <td>0.003636</td>\n",
       "      <td>0.000000</td>\n",
       "      <td>0.000000</td>\n",
       "      <td>0.003636</td>\n",
       "      <td>0.003636</td>\n",
       "      <td>0.003636</td>\n",
       "      <td>0.003636</td>\n",
       "      <td>0.000000</td>\n",
       "      <td>0.000000</td>\n",
       "      <td>0.0</td>\n",
       "      <td>0.000000</td>\n",
       "      <td>0.003636</td>\n",
       "      <td>0.003636</td>\n",
       "      <td>0.003636</td>\n",
       "    </tr>\n",
       "    <tr>\n",
       "      <th>1</th>\n",
       "      <td>No-Churn</td>\n",
       "      <td>200002</td>\n",
       "      <td>2.828816</td>\n",
       "      <td>0.775194</td>\n",
       "      <td>0.002584</td>\n",
       "      <td>0.002584</td>\n",
       "      <td>0.002584</td>\n",
       "      <td>0.002584</td>\n",
       "      <td>0.000000</td>\n",
       "      <td>0.002584</td>\n",
       "      <td>0.002584</td>\n",
       "      <td>0.002584</td>\n",
       "      <td>0.002584</td>\n",
       "      <td>0.000000</td>\n",
       "      <td>0.002584</td>\n",
       "      <td>0.0</td>\n",
       "      <td>0.002584</td>\n",
       "      <td>0.002584</td>\n",
       "      <td>0.002584</td>\n",
       "      <td>0.002584</td>\n",
       "    </tr>\n",
       "    <tr>\n",
       "      <th>2</th>\n",
       "      <td>Churn</td>\n",
       "      <td>125</td>\n",
       "      <td>0.069921</td>\n",
       "      <td>0.000000</td>\n",
       "      <td>0.000000</td>\n",
       "      <td>0.000000</td>\n",
       "      <td>0.000000</td>\n",
       "      <td>0.000000</td>\n",
       "      <td>0.000000</td>\n",
       "      <td>0.000000</td>\n",
       "      <td>0.000000</td>\n",
       "      <td>0.000000</td>\n",
       "      <td>0.125000</td>\n",
       "      <td>0.000000</td>\n",
       "      <td>0.000000</td>\n",
       "      <td>0.0</td>\n",
       "      <td>0.000000</td>\n",
       "      <td>0.000000</td>\n",
       "      <td>0.000000</td>\n",
       "      <td>0.000000</td>\n",
       "    </tr>\n",
       "    <tr>\n",
       "      <th>3</th>\n",
       "      <td>No-Churn</td>\n",
       "      <td>124</td>\n",
       "      <td>0.348325</td>\n",
       "      <td>1.000000</td>\n",
       "      <td>0.000245</td>\n",
       "      <td>0.000245</td>\n",
       "      <td>0.000245</td>\n",
       "      <td>0.000245</td>\n",
       "      <td>0.000245</td>\n",
       "      <td>0.000245</td>\n",
       "      <td>0.000245</td>\n",
       "      <td>0.000245</td>\n",
       "      <td>0.000245</td>\n",
       "      <td>0.000245</td>\n",
       "      <td>0.000245</td>\n",
       "      <td>0.0</td>\n",
       "      <td>0.000000</td>\n",
       "      <td>0.000245</td>\n",
       "      <td>0.000245</td>\n",
       "      <td>0.000000</td>\n",
       "    </tr>\n",
       "    <tr>\n",
       "      <th>4</th>\n",
       "      <td>Churn</td>\n",
       "      <td>51</td>\n",
       "      <td>0.179447</td>\n",
       "      <td>1.000000</td>\n",
       "      <td>0.000474</td>\n",
       "      <td>0.000474</td>\n",
       "      <td>0.000474</td>\n",
       "      <td>0.000474</td>\n",
       "      <td>0.000474</td>\n",
       "      <td>0.000474</td>\n",
       "      <td>0.000474</td>\n",
       "      <td>0.000474</td>\n",
       "      <td>0.000000</td>\n",
       "      <td>0.000474</td>\n",
       "      <td>0.000474</td>\n",
       "      <td>0.0</td>\n",
       "      <td>0.000000</td>\n",
       "      <td>0.000474</td>\n",
       "      <td>0.000474</td>\n",
       "      <td>0.000000</td>\n",
       "    </tr>\n",
       "  </tbody>\n",
       "</table>\n",
       "</div>"
      ],
      "text/plain": [
       "      Churn  userId  songInterval  paidRatio     About  Add Friend  \\\n",
       "0  No-Churn  100010      3.873091   0.000000  0.003636    0.003636   \n",
       "1  No-Churn  200002      2.828816   0.775194  0.002584    0.002584   \n",
       "2     Churn     125      0.069921   0.000000  0.000000    0.000000   \n",
       "3  No-Churn     124      0.348325   1.000000  0.000245    0.000245   \n",
       "4     Churn      51      0.179447   1.000000  0.000474    0.000474   \n",
       "\n",
       "   Add to Playlist  Downgrade     Error      Help      Home    Logout  \\\n",
       "0         0.003636   0.000000  0.000000  0.003636  0.003636  0.003636   \n",
       "1         0.002584   0.002584  0.000000  0.002584  0.002584  0.002584   \n",
       "2         0.000000   0.000000  0.000000  0.000000  0.000000  0.000000   \n",
       "3         0.000245   0.000245  0.000245  0.000245  0.000245  0.000245   \n",
       "4         0.000474   0.000474  0.000474  0.000474  0.000474  0.000474   \n",
       "\n",
       "   Roll Advert  Save Settings  Settings  Submit Downgrade  Submit Upgrade  \\\n",
       "0     0.003636       0.000000  0.000000               0.0        0.000000   \n",
       "1     0.002584       0.000000  0.002584               0.0        0.002584   \n",
       "2     0.125000       0.000000  0.000000               0.0        0.000000   \n",
       "3     0.000245       0.000245  0.000245               0.0        0.000000   \n",
       "4     0.000000       0.000474  0.000474               0.0        0.000000   \n",
       "\n",
       "   Thumbs Down  Thumbs Up   Upgrade  \n",
       "0     0.003636   0.003636  0.003636  \n",
       "1     0.002584   0.002584  0.002584  \n",
       "2     0.000000   0.000000  0.000000  \n",
       "3     0.000245   0.000245  0.000000  \n",
       "4     0.000474   0.000474  0.000000  "
      ]
     },
     "execution_count": 305,
     "metadata": {},
     "output_type": "execute_result"
    }
   ],
   "source": [
    "# change Churn column values to string for legend labels in chart\n",
    "pd_interval['Churn'] = pd_interval['Churn'].apply(\n",
    "    lambda x: 'Churn' if x == 1 else 'No-Churn')\n",
    "\n",
    "# change songInterval column value to hour unit\n",
    "pd_interval['songInterval'] = pd_interval['songInterval'] / 3600\n",
    "\n",
    "pd_interval.head()"
   ]
  },
  {
   "cell_type": "code",
   "execution_count": 306,
   "metadata": {},
   "outputs": [],
   "source": [
    "# split to three tables\n",
    "# song play intervals\n",
    "pd_song_interval = pd_interval[['Churn', 'userId', 'songInterval']]\n",
    "# paid song ratio\n",
    "pd_level_ratio = pd_interval[['Churn', 'userId', 'paidRatio']]\n",
    "# count per song for events other than song play\n",
    "pd_event_count = pd_interval.drop(['songInterval', 'paidRatio'], axis=1)"
   ]
  },
  {
   "cell_type": "markdown",
   "metadata": {},
   "source": [
    "**average song inervals**"
   ]
  },
  {
   "cell_type": "code",
   "execution_count": 307,
   "metadata": {},
   "outputs": [
    {
     "data": {
      "image/png": "[encoded data removed]",
      "text/plain": [
       "<matplotlib.figure.Figure at 0x7efdb93842b0>"
      ]
     },
     "metadata": {
      "needs_background": "light"
     },
     "output_type": "display_data"
    }
   ],
   "source": [
    "# plot average song intervals\n",
    "sns.boxplot(data=pd_song_interval, x='Churn', y='songInterval')\n",
    "plt.title('Average song intervals')\n",
    "plt.xlabel('')\n",
    "plt.ylabel('interval (hour)')\n",
    "plt.ylim(-0.5, 20)\n",
    "plt.show()"
   ]
  },
  {
   "cell_type": "markdown",
   "metadata": {},
   "source": [
    ">Churn users have shorter song intervals in average.\n",
    "\n",
    "**paid song ratios**"
   ]
  },
  {
   "cell_type": "code",
   "execution_count": 308,
   "metadata": {},
   "outputs": [
    {
     "data": {
      "image/png": "[encoded data removed]",
      "text/plain": [
       "<matplotlib.figure.Figure at 0x7efdb97bdc18>"
      ]
     },
     "metadata": {
      "needs_background": "light"
     },
     "output_type": "display_data"
    }
   ],
   "source": [
    "# plot level ratio\n",
    "sns.boxplot(data=pd_level_ratio, x='Churn', y='paidRatio')\n",
    "plt.title('Paid song ratio')\n",
    "plt.xlabel('')\n",
    "plt.ylabel('paid song ratio')\n",
    "plt.show()"
   ]
  },
  {
   "cell_type": "markdown",
   "metadata": {},
   "source": [
    "> Churn users have lower paid song play ratio in average."
   ]
  },
  {
   "cell_type": "code",
   "execution_count": 309,
   "metadata": {
    "scrolled": true
   },
   "outputs": [
    {
     "data": {
      "text/html": [
       "<div>\n",
       "<style>\n",
       "    .dataframe thead tr:only-child th {\n",
       "        text-align: right;\n",
       "    }\n",
       "\n",
       "    .dataframe thead th {\n",
       "        text-align: left;\n",
       "    }\n",
       "\n",
       "    .dataframe tbody tr th {\n",
       "        vertical-align: top;\n",
       "    }\n",
       "</style>\n",
       "<table border=\"1\" class=\"dataframe\">\n",
       "  <thead>\n",
       "    <tr style=\"text-align: right;\">\n",
       "      <th></th>\n",
       "      <th>Churn</th>\n",
       "      <th>userId</th>\n",
       "      <th>event</th>\n",
       "      <th>countPerSong</th>\n",
       "    </tr>\n",
       "  </thead>\n",
       "  <tbody>\n",
       "    <tr>\n",
       "      <th>0</th>\n",
       "      <td>No-Churn</td>\n",
       "      <td>100010</td>\n",
       "      <td>About</td>\n",
       "      <td>0.003636</td>\n",
       "    </tr>\n",
       "    <tr>\n",
       "      <th>1</th>\n",
       "      <td>No-Churn</td>\n",
       "      <td>200002</td>\n",
       "      <td>About</td>\n",
       "      <td>0.002584</td>\n",
       "    </tr>\n",
       "    <tr>\n",
       "      <th>2</th>\n",
       "      <td>Churn</td>\n",
       "      <td>125</td>\n",
       "      <td>About</td>\n",
       "      <td>0.000000</td>\n",
       "    </tr>\n",
       "    <tr>\n",
       "      <th>3</th>\n",
       "      <td>No-Churn</td>\n",
       "      <td>124</td>\n",
       "      <td>About</td>\n",
       "      <td>0.000245</td>\n",
       "    </tr>\n",
       "    <tr>\n",
       "      <th>4</th>\n",
       "      <td>Churn</td>\n",
       "      <td>51</td>\n",
       "      <td>About</td>\n",
       "      <td>0.000474</td>\n",
       "    </tr>\n",
       "  </tbody>\n",
       "</table>\n",
       "</div>"
      ],
      "text/plain": [
       "      Churn  userId  event  countPerSong\n",
       "0  No-Churn  100010  About      0.003636\n",
       "1  No-Churn  200002  About      0.002584\n",
       "2     Churn     125  About      0.000000\n",
       "3  No-Churn     124  About      0.000245\n",
       "4     Churn      51  About      0.000474"
      ]
     },
     "execution_count": 309,
     "metadata": {},
     "output_type": "execute_result"
    }
   ],
   "source": [
    "# melt event count table\n",
    "pd_event_count = pd_event_count.melt(id_vars=['Churn', 'userId'],\n",
    "                                     value_vars=pd_event_count.columns[2:],\n",
    "                                     var_name='event',\n",
    "                                     value_name='countPerSong')\n",
    "\n",
    "pd_event_count.head()"
   ]
  },
  {
   "cell_type": "markdown",
   "metadata": {},
   "source": [
    "**event counts per song**"
   ]
  },
  {
   "cell_type": "code",
   "execution_count": 310,
   "metadata": {},
   "outputs": [
    {
     "data": {
      "image/png": "[encoded data removed]",
      "text/plain": [
       "<matplotlib.figure.Figure at 0x7efdb8bb6f98>"
      ]
     },
     "metadata": {
      "needs_background": "light"
     },
     "output_type": "display_data"
    }
   ],
   "source": [
    "# plot event counts per song\n",
    "plt.figure(figsize=(20, 5))\n",
    "sns.boxplot(data=pd_event_count, x='event', y='countPerSong', hue='Churn')\n",
    "plt.title('Event counts per song')\n",
    "plt.xlabel('')\n",
    "plt.ylabel('count per song')\n",
    "plt.xticks(rotation=45)\n",
    "plt.ylim(-0.002, 0.02)\n",
    "plt.show()"
   ]
  },
  {
   "cell_type": "markdown",
   "metadata": {},
   "source": [
    ">Churn users have higher counts per song in average for most of event types.\n",
    "\n",
    "We visualized average song intervals, paid song ratio, and event counts per song, comparing churn and no-churn users.<br>\n",
    "We will provide these features to machine learning models."
   ]
  },
  {
   "cell_type": "markdown",
   "metadata": {},
   "source": [
    "---\n",
    "# Feature Engineering\n",
    "Once you've familiarized yourself with the data, build out the features you find promising to train your model on. To work with the full dataset, you can follow the following steps.\n",
    "- Write a script to extract the necessary features from the smaller subset of data\n",
    "- Ensure that your script is scalable, using the best practices discussed in Lesson 3\n",
    "- Try your script on the full data set, debugging your script if necessary\n",
    "\n",
    "If you are working in the classroom workspace, you can just extract features based on the small subset of data contained here. Be sure to transfer over this work to the larger dataset when you work on your Spark cluster."
   ]
  },
  {
   "cell_type": "markdown",
   "metadata": {},
   "source": [
    "---\n",
    "**Dataset Contents**<br>\n",
    "We will prepare following data by feature engineering.\n",
    "* User ID: index\n",
    "* Label: churned or not\n",
    "* Features: \n",
    "    * song play event interval averaged for each user\n",
    "    * paid song ratio among all song play event\n",
    "    * event counts for other types of events, divided by total song count for each user\n",
    "        * 'Cancel' and 'Cancellation Confirmation' events will be dropped from features."
   ]
  },
  {
   "cell_type": "markdown",
   "metadata": {},
   "source": [
    "---\n",
    "**Pipeline**<br>\n",
    "We will prepare feature engineering script in transformer form.<br>\n",
    "Feature engineering often requires native transformers and estimators, such as 'OneHotEncoderEstimator' or 'StringIndexer', and we need to use them with 'fit' and 'transform' two step methods. It would be convenient if we could combine other feature engineering steps with the transformers and estimators, and make the whole steps into a pipeline. <br>\n",
    "\n",
    "Spark has 'SQLTransformer()' function and it can make a SQL command into a transformer.<br>\n",
    "For example, a SQL command can be written like following.\n",
    ">sqlTrans1 = SQLTransformer(statement=\"SELECT * FROM _ _ _THIS_ _ _ WHERE userId IS NOT NULL\")<br>\n",
    ">sqlTransModel = sqlTrans1.fit(data)<br>\n",
    ">data = sqlTransModel.transform(data)<br>\n",
    "\n",
    "After checking the transformer is working fine, we can extract the 1st line ('sqlTrans1=...') and put it into preprocessing pipeline together with other transformers and estimators.\n",
    "\n",
    ">preprocess_pipeline = Pipeline(stages=[sqlTrans1, sqlTrans2, sqlTrans3, oneHotEnc4, ..., stringIndexer7, ...,vectorAssembler15, sqlTrans16])\n",
    "\n",
    "Then, we can use 'fit' and 'transform' method with the whole pipeline in one go.\n",
    "\n",
    ">preprocess_model = preprocess_pipeline.fit(data)<br>\n",
    ">data = preprocess_model.transform(data)\n",
    "\n",
    "In this project, we actually do not have to use any OneHotEncoderEstimator, StringIndexer, nor other native transformers / estimators. But we will still keep the transformer form for future extendability."
   ]
  },
  {
   "cell_type": "markdown",
   "metadata": {},
   "source": [
    "---\n",
    "**Structure of scripts**<br>\n",
    ">* create_preprocess_pipeline() : Combine following three subroutines and create a pipeline of total data preprocessing.<br>\n",
    ">>* add_data_cleaner() : Subroutine to add data cleaner stages in the pipeline. Shown earlier in Data Cleaning section.<br>\n",
    ">>* add_label_maker(): Subroutine to add label maker stages in the pipeline. Shown earlier in Label Definition section.<br>\n",
    ">>* add_features_maker() : Subroutine to add features maker stages in the pipeline. This refers to data exploratory analysis section."
   ]
  },
  {
   "cell_type": "code",
   "execution_count": 6,
   "metadata": {},
   "outputs": [],
   "source": [
    "# Feature Creater (subroutine)\n",
    "def add_features_maker(stages):\n",
    "    '''\n",
    "    INPUT:\n",
    "    stages - (list) list of transformer to be used as 'stages' argument of pyspark Pipeline() constructor\n",
    "                It must be an output of 'create_label_maker()' function.\n",
    "\n",
    "    OUTPUT:\n",
    "    stages - (list) list of transformer to be used as 'stages' argument of pyspark Pipeline() constructor\n",
    "    feature_labels - (list) list of feature column names for utility\n",
    "\n",
    "    DESCRIPTION:\n",
    "    This is a subroutine of create_preprocess_pipeline() function.\n",
    "    Stages added by this function will make feature columns in target pyspark dataframe.\n",
    "    '''\n",
    "    # 'event_name'\n",
    "    # replace whitespace of page column with underbar and put into a new column\n",
    "    sqlTrans = SQLTransformer(statement=\" \\\n",
    "        SELECT userId, Churn AS label, ts, registration, level, event_name \\\n",
    "        FROM ( \\\n",
    "            SELECT *, REPLACE(page, ' ', '_') AS event_name \\\n",
    "            FROM __THIS__)\")\n",
    "\n",
    "    stages.append(sqlTrans)\n",
    "\n",
    "    # 'event_name' elements\n",
    "    event_names = [\n",
    "        'About',\n",
    "        'Add_Friend',\n",
    "        'Add_to_Playlist',\n",
    "        # 'Cancel',\n",
    "        # 'Cancellation_Confirmation',\n",
    "        'Downgrade',\n",
    "        'Error',\n",
    "        'Help',\n",
    "        'Home',\n",
    "        'Logout',\n",
    "        'NextSong',\n",
    "        'Roll_Advert',\n",
    "        'Save_Settings',\n",
    "        'Settings',\n",
    "        'Submit_Downgrade',\n",
    "        'Submit_Upgrade',\n",
    "        'Thumbs_Down',\n",
    "        'Thumbs_Up',\n",
    "        'Upgrade']\n",
    "\n",
    "    # 'eventInterval'\n",
    "    # add a column to store event intervals (in seconds)\n",
    "    sqlTrans = SQLTransformer(statement=\" \\\n",
    "        SELECT *, \\\n",
    "            ((FIRST_VALUE(ts) OVER ( \\\n",
    "                PARTITION BY userId, event_name \\\n",
    "                ORDER BY ts DESC \\\n",
    "                ROWS BETWEEN 1 PRECEDING AND CURRENT ROW \\\n",
    "            ) / 1000) - (LAST_VALUE(ts) OVER ( \\\n",
    "                PARTITION BY userId, event_name \\\n",
    "                ORDER BY ts DESC \\\n",
    "                ROWS BETWEEN 1 PRECEDING AND CURRENT ROW \\\n",
    "            ) / 1000)) AS eventInterval \\\n",
    "        FROM __THIS__\")\n",
    "\n",
    "    stages.append(sqlTrans)\n",
    "\n",
    "    # 'lastTS'\n",
    "    # add a column to store the last TS for each user\n",
    "    sqlTrans = SQLTransformer(statement=\" \\\n",
    "        SELECT *, \\\n",
    "            (FIRST_VALUE(ts) OVER ( \\\n",
    "                PARTITION BY userId, event_name \\\n",
    "                ORDER BY ts DESC \\\n",
    "                ROWS BETWEEN UNBOUNDED PRECEDING AND CURRENT ROW \\\n",
    "            )) AS lastTS \\\n",
    "        FROM __THIS__\")\n",
    "\n",
    "    stages.append(sqlTrans)\n",
    "\n",
    "    # 'trueInterval'\n",
    "    # set the last TS row's interval value to Null\n",
    "    sqlTrans = SQLTransformer(statement=\" \\\n",
    "        SELECT *, \\\n",
    "            CASE WHEN ts == lastTS THEN NULL ELSE eventInterval END AS trueInterval \\\n",
    "        FROM __THIS__\")\n",
    "\n",
    "    stages.append(sqlTrans)\n",
    "\n",
    "    # 'trueInterval'(update), 'pageCount', 'paidCount', 'songCount'\n",
    "    # group by userId and page\n",
    "    # we get average of interval for NextSong, and count for other events\n",
    "    # we also count paid songs, and total songs\n",
    "    sqlTrans = SQLTransformer(statement=\" \\\n",
    "        SELECT label, userId, event_name, \\\n",
    "            AVG(trueInterval) AS trueInterval, \\\n",
    "            COUNT(event_name) AS pageCount, \\\n",
    "            COUNT(CASE WHEN event_name = 'NextSong' AND level = 'paid' THEN event_name END) AS paidCount, \\\n",
    "            COUNT(CASE WHEN event_name = 'NextSong' THEN event_name END) AS songCount \\\n",
    "        FROM __THIS__ \\\n",
    "        GROUP BY label, userId, event_name\")\n",
    "\n",
    "    stages.append(sqlTrans)\n",
    "\n",
    "    # 'songInterval'\n",
    "    # add a column to store interval when page is NextSong\n",
    "    sqlTrans = SQLTransformer(statement=\" \\\n",
    "        SELECT *, \\\n",
    "            CASE WHEN event_name == 'NextSong' THEN trueInterval END AS songInterval \\\n",
    "        FROM __THIS__\")\n",
    "\n",
    "    stages.append(sqlTrans)\n",
    "\n",
    "    # 'songInterval'(update), 'paidRatio', element of event_names list as new columns\n",
    "    # group by userId, average song intervals, and count other events and vidide the sum by songCount\n",
    "\n",
    "    # loop event names to create sql lines and concatenate them\n",
    "    sql_line = ''.join(['(COUNT(CASE WHEN event_name == \"{}\" THEN pageCount END) / SUM(songCount)) AS {},'\n",
    "                        .format(name, name) for name in event_names])[:-1]\n",
    "\n",
    "    sqlTrans = SQLTransformer(statement=\" \\\n",
    "        SELECT label, userId, \\\n",
    "            MAX(songInterval) AS songInterval, \\\n",
    "            (MAX(paidCount) / MAX(songCount)) AS paidRatio, \\\n",
    "            {} \\\n",
    "        FROM __THIS__ \\\n",
    "        GROUP BY label, userId\".format(sql_line))\n",
    "\n",
    "    stages.append(sqlTrans)\n",
    "\n",
    "    # 'featureVec'\n",
    "    # assemble feature columns into a vector column\n",
    "    event_names.remove('NextSong')\n",
    "    feature_columns = ['songInterval', 'paidRatio'] + event_names\n",
    "\n",
    "    assembler = VectorAssembler(\n",
    "        inputCols=feature_columns, outputCol='featureVec')\n",
    "\n",
    "    stages.append(assembler)\n",
    "\n",
    "    # store feature labels for utility\n",
    "    feature_labels = assembler.getInputCols()\n",
    "\n",
    "    return stages, feature_labels"
   ]
  },
  {
   "cell_type": "code",
   "execution_count": 7,
   "metadata": {},
   "outputs": [],
   "source": [
    "# Creating Preprocessing Pipeline (Data Cleaning + Feature Engineering)\n",
    "def create_preprocess_pipeline():\n",
    "    '''\n",
    "    OUTPUT:\n",
    "    preprocess_pipeline - (pyspark Pipeline object)\n",
    "    feature_labels - (list) string labels for corresponding feature vector elements\n",
    "\n",
    "    DESCRIPTION:\n",
    "    This function creates a pipeline for data cleaning and preprocessing.\n",
    "    It must be first 'fit' with data to create a pipeline model.\n",
    "    Then the model can 'transform' the data.\n",
    "\n",
    "    Example:\n",
    "    > preprocess_pipeline, feature_labels = create_preprocess_pipeline()\n",
    "    > preprocess_model = preprocess_pipeline.fit(data)\n",
    "    > data = preprocess_model.transform(data) \n",
    "    '''\n",
    "    # clean data\n",
    "    stages = add_data_cleaner()\n",
    "\n",
    "    # make label\n",
    "    stages = add_label_maker(stages)\n",
    "\n",
    "    # make features\n",
    "    stages, feature_labels = add_features_maker(stages)\n",
    "\n",
    "    # select only necessary columns, 'userId', 'label', 'features'\n",
    "    sqlTrans = SQLTransformer(statement=\" \\\n",
    "        SELECT userId, label, featureVec AS features \\\n",
    "        FROM __THIS__\")\n",
    "    stages.append(sqlTrans)\n",
    "\n",
    "    # create preprocessing pipeline\n",
    "    preprocess_pipeline = Pipeline(stages=stages)\n",
    "\n",
    "    return preprocess_pipeline, feature_labels"
   ]
  },
  {
   "cell_type": "markdown",
   "metadata": {},
   "source": [
    ">The scripts can be used as follows.<br>\n",
    ">>preprocess_pipeline, feature_labels = create_preprocess_pipeline()<br>\n",
    ">>preprocess_model = preprocess_pipeline.fit(data)<br>\n",
    ">>processed_data = preprocess_model.transform(data)"
   ]
  },
  {
   "cell_type": "code",
   "execution_count": 8,
   "metadata": {},
   "outputs": [],
   "source": [
    "# create preprocessing pipeline\n",
    "preprocess_pipeline, feature_labels = create_preprocess_pipeline()\n",
    "\n",
    "# fit and transform\n",
    "preprocess_model = preprocess_pipeline.fit(data)\n",
    "processed_data = preprocess_model.transform(data)"
   ]
  },
  {
   "cell_type": "code",
   "execution_count": 314,
   "metadata": {},
   "outputs": [],
   "source": [
    "# save trained pipeline model to a folder\n",
    "preprocess_model.write().overwrite().save('preproModel')"
   ]
  },
  {
   "cell_type": "code",
   "execution_count": 315,
   "metadata": {
    "scrolled": false
   },
   "outputs": [
    {
     "data": {
      "text/plain": [
       "[Row(userId='100010', label=0, features=DenseVector([13943.1277, 0.0, 0.0036, 0.0036, 0.0036, 0.0, 0.0, 0.0036, 0.0036, 0.0036, 0.0036, 0.0, 0.0, 0.0, 0.0, 0.0036, 0.0036, 0.0036])),\n",
       " Row(userId='200002', label=0, features=DenseVector([10183.7383, 0.7752, 0.0026, 0.0026, 0.0026, 0.0026, 0.0, 0.0026, 0.0026, 0.0026, 0.0026, 0.0, 0.0026, 0.0, 0.0026, 0.0026, 0.0026, 0.0026])),\n",
       " Row(userId='125', label=1, features=SparseVector(18, {0: 251.7143, 10: 0.125})),\n",
       " Row(userId='124', label=0, features=DenseVector([1253.9689, 1.0, 0.0002, 0.0002, 0.0002, 0.0002, 0.0002, 0.0002, 0.0002, 0.0002, 0.0002, 0.0002, 0.0002, 0.0, 0.0, 0.0002, 0.0002, 0.0])),\n",
       " Row(userId='51', label=1, features=DenseVector([646.0081, 1.0, 0.0005, 0.0005, 0.0005, 0.0005, 0.0005, 0.0005, 0.0005, 0.0005, 0.0, 0.0005, 0.0005, 0.0, 0.0, 0.0005, 0.0005, 0.0]))]"
      ]
     },
     "execution_count": 315,
     "metadata": {},
     "output_type": "execute_result"
    }
   ],
   "source": [
    "# check contents\n",
    "processed_data.head(5)"
   ]
  },
  {
   "cell_type": "code",
   "execution_count": 316,
   "metadata": {},
   "outputs": [
    {
     "data": {
      "text/plain": [
       "['songInterval',\n",
       " 'paidRatio',\n",
       " 'About',\n",
       " 'Add_Friend',\n",
       " 'Add_to_Playlist',\n",
       " 'Downgrade',\n",
       " 'Error',\n",
       " 'Help',\n",
       " 'Home',\n",
       " 'Logout',\n",
       " 'Roll_Advert',\n",
       " 'Save_Settings',\n",
       " 'Settings',\n",
       " 'Submit_Downgrade',\n",
       " 'Submit_Upgrade',\n",
       " 'Thumbs_Down',\n",
       " 'Thumbs_Up',\n",
       " 'Upgrade']"
      ]
     },
     "execution_count": 316,
     "metadata": {},
     "output_type": "execute_result"
    }
   ],
   "source": [
    "# call create_preprocess_pipeline() only for getting feature_labels\n",
    "_, feature_labels = create_preprocess_pipeline()\n",
    "feature_labels"
   ]
  },
  {
   "cell_type": "markdown",
   "metadata": {},
   "source": [
    "---\n",
    "# Modeling\n",
    "Split the full dataset into train, test, and validation sets. Test out several of the machine learning methods you learned. Evaluate the accuracy of the various models, tuning parameters as necessary. Determine your winning model based on test accuracy and report results on the validation set. Since the churned users are a fairly small subset, I suggest using F1 score as the metric to optimize."
   ]
  },
  {
   "cell_type": "markdown",
   "metadata": {},
   "source": [
    "### Data Standardization\n",
    "We will apply standard scaling to feature vectors before sending them to classification model. <br>"
   ]
  },
  {
   "cell_type": "code",
   "execution_count": 9,
   "metadata": {},
   "outputs": [],
   "source": [
    "# Standard scaling for feature vector\n",
    "stdScaler = StandardScaler(withMean=True, withStd=True,\n",
    "                           inputCol='features', outputCol='scaledFeatures')"
   ]
  },
  {
   "cell_type": "markdown",
   "metadata": {},
   "source": [
    "---\n",
    "### Metrics\n",
    "As the churned users are fairly low in the data (~23%), we will use F1 score for model evaluation.<br>\n",
    "Metrics calculation script is prepared as follows.<br>\n",
    "\n",
    "Also prepared another script for precision-recall curve plot. It calculates F1, AUC (area under curve) and AP (average precision) as well.<br>\n",
    "ref. [How and When to Use ROC Curves and Precision-Recall Curves for Classification in Python](https://machinelearningmastery.com/roc-curves-and-precision-recall-curves-for-classification-in-python/)"
   ]
  },
  {
   "cell_type": "code",
   "execution_count": 10,
   "metadata": {},
   "outputs": [],
   "source": [
    "# prepare function for metric calculation\n",
    "def calculate_metrics(model_name, df_test_for_model, output=True):\n",
    "    '''\n",
    "    INPUT:\n",
    "    model_name - (string) classification model name\n",
    "    df_test_for_model - (pyspark dataframe) transformed test dataframe including prediction and label\n",
    "    output - (bool) whether to print metrics to stdout\n",
    "\n",
    "    OUTPUT:\n",
    "    metrics - (dictionary) dictionary storing TP, TN, FP, FN, Precision, Recall, and F1\n",
    "\n",
    "    DESCRIPTION:\n",
    "    Print out and return TP, TN, FP, FN, Precision, Recall and F1\n",
    "    '''\n",
    "    # Count True Positive, True Negative, False Positive, False Negative in test data result\n",
    "    sqlTrans = SQLTransformer(statement=\" \\\n",
    "        SELECT \\\n",
    "            SUM(CASE WHEN label = 1 AND prediction = 1 THEN 1 ELSE 0 END) AS TP, \\\n",
    "            SUM(CASE WHEN label = 0 AND prediction = 0 THEN 1 ELSE 0 END) AS TN, \\\n",
    "            SUM(CASE WHEN label = 0 AND prediction = 1 THEN 1 ELSE 0 END) AS FP, \\\n",
    "            SUM(CASE WHEN label = 1 AND prediction = 0 THEN 1 ELSE 0 END) AS FN \\\n",
    "            FROM __THIS__\")\n",
    "\n",
    "    counts = sqlTrans.transform(df_test_for_model).collect()\n",
    "\n",
    "    # calculate precision, recall and f1 score by definition\n",
    "    TP, TN, FP, FN = counts[0].TP, counts[0].TN, counts[0].FP, counts[0].FN\n",
    "    if (TP + FP) > 0:\n",
    "        Precision = TP / (TP + FP)\n",
    "    else:\n",
    "        Precision = 0\n",
    "        print('[INFO: TP + FP = 0, and Precision is set 0.]')\n",
    "\n",
    "    if (TP + FN) > 0:\n",
    "        Recall = TP / (TP + FN)\n",
    "    else:\n",
    "        Recall = 0\n",
    "        print('[INFO: TP + FN = 0, and Recall is set 0.]')\n",
    "\n",
    "    if (Recall + Precision) > 0:\n",
    "        F1_score = 2 * Recall * Precision / (Recall + Precision)\n",
    "    else:\n",
    "        F1_score = 0\n",
    "        print('[INFO: Recall + Precision = 0, and F1 is set 0.]')\n",
    "\n",
    "    if output:\n",
    "        print(model_name)\n",
    "        print('precision:{:.4f}, recall:{:.4f}, f1:{:.4f}'.format(\n",
    "            Precision, Recall, F1_score))\n",
    "        print('(TP:{}, TN:{}, FP:{}, FN:{})'.format(TP, TN, FP, FN))\n",
    "\n",
    "    metrics = {'TP': TP, 'TN': TN, 'FP': FP, 'FN': FN,\n",
    "               'Precision': Precision, 'Recall': Recall, 'F1': F1_score}\n",
    "    return metrics"
   ]
  },
  {
   "cell_type": "code",
   "execution_count": 16,
   "metadata": {},
   "outputs": [],
   "source": [
    "# Plot precision-recall curve and output F1, AUC, and AP\n",
    "def plot_precision_recall_curve(df, title_addition=None, ax=None):\n",
    "    '''\n",
    "    INPUT:\n",
    "    df - (pyspark dataframe) dataset transformed by model, including 'label', 'probability' and 'prediction' columns\n",
    "    title_addition - (str) additional text string to chart title\n",
    "    ax - (object) Axes object or array of Axes objects.\n",
    "\n",
    "    DESCRIPTION:\n",
    "    Plot precision-recall curve from transformed dataset.\n",
    "    Also output F1 score, AUC (area under curve), and AP (average precision)\n",
    "    In case ax is privided, plt.show() will not be called inside this function. (plt:matplotlib.pyplot)\n",
    "    '''\n",
    "    # change to pandas dataframe\n",
    "    label_proba = df.select('label', 'probability', 'prediction').toPandas()\n",
    "\n",
    "    # extract probability for 1\n",
    "    label_proba['proba'] = label_proba['probability'].apply(lambda x: x[1])\n",
    "\n",
    "    testy = label_proba['label']\n",
    "    probs = label_proba['proba']\n",
    "    yhat = label_proba['prediction']\n",
    "\n",
    "    # calculate precision-recall curve\n",
    "    precision, recall, thresholds = precision_recall_curve(testy, probs)\n",
    "\n",
    "    # calculate F1 score\n",
    "    f1 = f1_score(testy, yhat)\n",
    "\n",
    "    # calculate precision-recall AUC\n",
    "    auc = Fauc(recall, precision)  # Fauc is an alias of sklearn.metrics auc\n",
    "\n",
    "    # calculate average precision score\n",
    "    ap = average_precision_score(testy, probs)\n",
    "\n",
    "    print('F1={:.4f}, AUC={:.4f}, AP={:.4f} {}'.format(\n",
    "        f1, auc, ap, title_addition))\n",
    "\n",
    "    if ax is None:\n",
    "        # plot no skill\n",
    "        plt.plot([0, 1], [0.5, 0.5], linestyle='--')\n",
    "\n",
    "        # plot the roc curve for the model\n",
    "        plt.plot(recall, precision, marker='.')\n",
    "        if title_addition is not None:\n",
    "            plt.title(title_addition)\n",
    "        plt.xlabel('recall')\n",
    "        plt.ylabel('precision')\n",
    "        plt.ylim(-0.01, 1.05)\n",
    "\n",
    "        # show the plot\n",
    "        plt.show()\n",
    "    else:\n",
    "        # plot no skill\n",
    "        ax.plot([0, 1], [0.5, 0.5], linestyle='--')\n",
    "\n",
    "        # plot the roc curve for the model\n",
    "        ax.plot(recall, precision, marker='.')\n",
    "        if title_addition is not None:\n",
    "            ax.set_title(title_addition)\n",
    "        ax.set_xlabel('recall')\n",
    "        ax.set_ylabel('precision')\n",
    "        ax.set_ylim(-0.01, 1.05)"
   ]
  },
  {
   "cell_type": "markdown",
   "metadata": {},
   "source": [
    "---\n",
    "### Preprocessing\n",
    "For convenience, data preprocessing step is presented again."
   ]
  },
  {
   "cell_type": "code",
   "execution_count": 12,
   "metadata": {},
   "outputs": [],
   "source": [
    "# create preprocessing pipeline\n",
    "preprocess_pipeline, feature_labels = create_preprocess_pipeline()\n",
    "\n",
    "# fit and transform\n",
    "preprocess_model = preprocess_pipeline.fit(data)\n",
    "processed_data = preprocess_model.transform(data)"
   ]
  },
  {
   "cell_type": "markdown",
   "metadata": {},
   "source": [
    "---\n",
    "### Trainig and Test data split\n",
    "Preprocessed dataset will be randomly split into training and testing datasets in certain ratio.<br>"
   ]
  },
  {
   "cell_type": "code",
   "execution_count": 13,
   "metadata": {},
   "outputs": [],
   "source": [
    "# train, test split\n",
    "df_train, df_test = processed_data.randomSplit([0.7, 0.3], seed=24)"
   ]
  },
  {
   "cell_type": "markdown",
   "metadata": {},
   "source": [
    "---\n",
    "### Model selection\n",
    "We will use 'Logistic Regression' and 'Gradient Boosted-Tree Classifier' for modeling.<br>\n",
    "1. Logistic Regression is relatively faster to train. So it is convenient for preliminary trial.<br>\n",
    "* Gradient Boosted-Tree Classifier takes much longer time for training. But it often scores better.<br>"
   ]
  },
  {
   "cell_type": "markdown",
   "metadata": {},
   "source": [
    "#### 1. Logistic Regression"
   ]
  },
  {
   "cell_type": "markdown",
   "metadata": {},
   "source": [
    "First, we check F1 score with default parameters."
   ]
  },
  {
   "cell_type": "code",
   "execution_count": 14,
   "metadata": {},
   "outputs": [],
   "source": [
    "# Logistic Regression (training with default parameters)\n",
    "lr = LogisticRegression(featuresCol='scaledFeatures',\n",
    "                        labelCol='label', standardization=False)\n",
    "\n",
    "# pipeline with standard scaler\n",
    "lr_pipeline = Pipeline(stages=[stdScaler, lr])\n",
    "\n",
    "# training model\n",
    "lrModel = lr_pipeline.fit(df_train)"
   ]
  },
  {
   "cell_type": "code",
   "execution_count": 323,
   "metadata": {},
   "outputs": [
    {
     "name": "stdout",
     "output_type": "stream",
     "text": [
      "Logistic Regression (train, default params)\n",
      "precision:0.8333, recall:0.4054, f1:0.5455\n",
      "(TP:15, TN:117, FP:3, FN:22)\n"
     ]
    }
   ],
   "source": [
    "# calculate metrics with training data\n",
    "df_train_lr = lrModel.transform(df_train)\n",
    "_ = calculate_metrics(\n",
    "    'Logistic Regression (train, default params)', df_train_lr)"
   ]
  },
  {
   "cell_type": "code",
   "execution_count": 324,
   "metadata": {
    "scrolled": false
   },
   "outputs": [
    {
     "name": "stdout",
     "output_type": "stream",
     "text": [
      "Logistic Regression (test, default params)\n",
      "precision:0.4000, recall:0.2667, f1:0.3200\n",
      "(TP:4, TN:47, FP:6, FN:11)\n"
     ]
    }
   ],
   "source": [
    "# calculate metrics with test data\n",
    "df_test_lr = lrModel.transform(df_test)\n",
    "_ = calculate_metrics('Logistic Regression (test, default params)', df_test_lr)"
   ]
  },
  {
   "cell_type": "markdown",
   "metadata": {},
   "source": [
    ">train set score: F1=0.5455, test set score: F1=0.3200<br>\n",
    "Both scores are not so good. It indicates under-fitting.<br>\n",
    "We try improving it by parameter tuning with grid search."
   ]
  },
  {
   "cell_type": "markdown",
   "metadata": {},
   "source": [
    "---\n",
    "**Parameter Tuning - Logistic Regression**<br>\n",
    "We use grid search with three fold cross validation method.<br>\n",
    "As the churned users are fairly low in the data, we use 'the area under the precision-recall curve' for the parameter optimization.<br>\n",
    ">Ref. [BinaryClassificationEvaluator - PySpark docs](https://spark.apache.org/docs/2.2.0/api/python/pyspark.ml.html?highlight=binaryclassificationevaluator#pyspark.ml.evaluation.BinaryClassificationEvaluator)<br>\n",
    "Ref. [How and When to Use ROC Curves and Precision-Recall Curves for Classification in Python](https://machinelearningmastery.com/roc-curves-and-precision-recall-curves-for-classification-in-python/)\n"
   ]
  },
  {
   "cell_type": "markdown",
   "metadata": {},
   "source": [
    "We vary 'maxIter' parameter by grid search.<br>\n",
    "'standardization' option is set off because we have prepared standard scaler separately."
   ]
  },
  {
   "cell_type": "code",
   "execution_count": 15,
   "metadata": {},
   "outputs": [],
   "source": [
    "# Logistic Regression (training by grid search)\n",
    "lr = LogisticRegression(elasticNetParam=0.0, featuresCol='scaledFeatures',\n",
    "                        labelCol='label', standardization=False)\n",
    "\n",
    "# pipeline with standard scaler\n",
    "lr_pipeline = Pipeline(stages=[stdScaler, lr])\n",
    "\n",
    "# grid search parameters\n",
    "lr_grid = ParamGridBuilder() \\\n",
    "    .addGrid(lr.maxIter, [10, 50, 100, 200]) \\\n",
    "    .build()\n",
    "\n",
    "# evaluator\n",
    "lr_evaluator = BinaryClassificationEvaluator(\n",
    "    metricName='areaUnderPR')  # precision-recall-curves\n",
    "\n",
    "# grid search with 3 folds cross validation\n",
    "lr_cv = CrossValidator(estimator=lr_pipeline,\n",
    "                       estimatorParamMaps=lr_grid,\n",
    "                       evaluator=lr_evaluator,\n",
    "                       numFolds=3)\n",
    "\n",
    "# training model\n",
    "lrModel = lr_cv.fit(df_train)"
   ]
  },
  {
   "cell_type": "code",
   "execution_count": 16,
   "metadata": {},
   "outputs": [
    {
     "name": "stdout",
     "output_type": "stream",
     "text": [
      "Logistic Regression (train, grid-search)\n",
      "precision:0.8333, recall:0.4054, f1:0.5455\n",
      "(TP:15, TN:117, FP:3, FN:22)\n"
     ]
    }
   ],
   "source": [
    "# calculate metrics with training data\n",
    "df_train_lr = lrModel.transform(df_train)\n",
    "_ = calculate_metrics('Logistic Regression (train, grid-search)', df_train_lr)"
   ]
  },
  {
   "cell_type": "code",
   "execution_count": 17,
   "metadata": {},
   "outputs": [
    {
     "name": "stdout",
     "output_type": "stream",
     "text": [
      "Logistic Regression (test, grid-search)\n",
      "precision:0.4000, recall:0.2667, f1:0.3200\n",
      "(TP:4, TN:47, FP:6, FN:11)\n"
     ]
    }
   ],
   "source": [
    "# calculate metrics with test data\n",
    "df_test_lr = lrModel.transform(df_test)\n",
    "_ = calculate_metrics('Logistic Regression (test, grid-search)', df_test_lr)"
   ]
  },
  {
   "cell_type": "code",
   "execution_count": 18,
   "metadata": {},
   "outputs": [],
   "source": [
    "# save the best pipeline to a folder\n",
    "lrModel.bestModel.write().overwrite().save('lrModelCV')"
   ]
  },
  {
   "cell_type": "code",
   "execution_count": 19,
   "metadata": {
    "scrolled": false
   },
   "outputs": [
    {
     "data": {
      "text/plain": [
       "{Param(parent='LogisticRegression_6d59a6b9961c', name='aggregationDepth', doc='suggested depth for treeAggregate (>= 2)'): 2,\n",
       " Param(parent='LogisticRegression_6d59a6b9961c', name='elasticNetParam', doc='the ElasticNet mixing parameter, in range [0, 1]. For alpha = 0, the penalty is an L2 penalty. For alpha = 1, it is an L1 penalty'): 0.0,\n",
       " Param(parent='LogisticRegression_6d59a6b9961c', name='family', doc='The name of family which is a description of the label distribution to be used in the model. Supported options: auto, binomial, multinomial.'): 'auto',\n",
       " Param(parent='LogisticRegression_6d59a6b9961c', name='featuresCol', doc='features column name'): 'scaledFeatures',\n",
       " Param(parent='LogisticRegression_6d59a6b9961c', name='fitIntercept', doc='whether to fit an intercept term'): True,\n",
       " Param(parent='LogisticRegression_6d59a6b9961c', name='labelCol', doc='label column name'): 'label',\n",
       " Param(parent='LogisticRegression_6d59a6b9961c', name='maxIter', doc='maximum number of iterations (>= 0)'): 200,\n",
       " Param(parent='LogisticRegression_6d59a6b9961c', name='predictionCol', doc='prediction column name'): 'prediction',\n",
       " Param(parent='LogisticRegression_6d59a6b9961c', name='probabilityCol', doc='Column name for predicted class conditional probabilities. Note: Not all models output well-calibrated probability estimates! These probabilities should be treated as confidences, not precise probabilities'): 'probability',\n",
       " Param(parent='LogisticRegression_6d59a6b9961c', name='rawPredictionCol', doc='raw prediction (a.k.a. confidence) column name'): 'rawPrediction',\n",
       " Param(parent='LogisticRegression_6d59a6b9961c', name='regParam', doc='regularization parameter (>= 0)'): 0.0,\n",
       " Param(parent='LogisticRegression_6d59a6b9961c', name='standardization', doc='whether to standardize the training features before fitting the model'): False,\n",
       " Param(parent='LogisticRegression_6d59a6b9961c', name='threshold', doc='threshold in binary classification prediction, in range [0, 1]'): 0.5,\n",
       " Param(parent='LogisticRegression_6d59a6b9961c', name='tol', doc='the convergence tolerance for iterative algorithms (>= 0)'): 1e-06}"
      ]
     },
     "execution_count": 19,
     "metadata": {},
     "output_type": "execute_result"
    }
   ],
   "source": [
    "# extract the best model parameters\n",
    "bestLrClassifier = lrModel.bestModel.stages[-1]\n",
    "bestLrClassifier.extractParamMap()"
   ]
  },
  {
   "cell_type": "markdown",
   "metadata": {},
   "source": [
    ">The best model train set score is F1=0.5455 and test set score is F1=0.3200 with 'maxIter'=200.<br>\n",
    "Grid search did not improve scores, but the best model score should be more stable after going through cross validation process.\n",
    "\n",
    "We check precision-recall curve."
   ]
  },
  {
   "cell_type": "code",
   "execution_count": 20,
   "metadata": {
    "scrolled": false
   },
   "outputs": [
    {
     "name": "stdout",
     "output_type": "stream",
     "text": [
      "F1=0.5455, AUC=0.7382, AP=0.7414 train set\n",
      "F1=0.3200, AUC=0.3189, AP=0.3555 test set\n"
     ]
    },
    {
     "data": {
      "image/png": "[encoded data removed]",
      "text/plain": [
       "<matplotlib.figure.Figure at 0x7fad0c300a90>"
      ]
     },
     "metadata": {
      "needs_background": "light"
     },
     "output_type": "display_data"
    }
   ],
   "source": [
    "# plot precision-recall curve\n",
    "fig, ax = plt.subplots(1, 2, figsize=(12, 4))\n",
    "plot_precision_recall_curve(df_train_lr, title_addition='train set', ax=ax[0])\n",
    "plot_precision_recall_curve(df_test_lr, title_addition='test set', ax=ax[1])\n",
    "plt.show()"
   ]
  },
  {
   "cell_type": "markdown",
   "metadata": {},
   "source": [
    ">Blue dot line is the baseline of PR curve.<br>\n",
    "Test set AUC (area under PR curve) is 0.3189 and it is below baseline (0.5)."
   ]
  },
  {
   "cell_type": "markdown",
   "metadata": {},
   "source": [
    "**Score Summary - Logistic Regression**\n",
    "\n",
    "|CV(maxIter=200)|precison|recall|f1|AUC|AP|\n",
    "|---|---|---|---|---|---|\n",
    "|mini data train set|0.8333|0.4054|0.5455|0.7382|0.7414|\n",
    "|mini data test set|0.4000|0.2667|0.3200|0.3189|0.3555|\n",
    "\n",
    ">Test set score F1=0.3200 is not very satisfactory. Train set score F1=0.5455 is not high, eigher.<br>\n",
    "This indicates under-fitting.<br>\n",
    "\n",
    ">For reference, result of modeling with medium size data is shown as follows.\n",
    "\n",
    "|CV(maxIter=10)|precison|recall|f1|AUC|AP|\n",
    "|---|---|---|---|---|---|\n",
    "|medium data train set|0.8333|0.4348|0.5714|0.6514|0.6570|\n",
    "|medium data test set|0.5000|0.1333|0.2105|0.5195|0.5366|\n",
    "\n",
    ">Grid paremeters were same for both, but different 'maxIter' were selected for the best models.\n",
    "Medium size data result is not so good, either.\n",
    "\n",
    ">As train set score is not very high, test set score cannot be good in principle.<br>\n",
    "Maybe this feature set exceeded learning capacity of Logistic Regression model.<br>\n",
    "We could try adding or reducing features to see if it improves.<br>\n",
    "But rather we will try another classification model, first."
   ]
  },
  {
   "cell_type": "markdown",
   "metadata": {},
   "source": [
    "---\n",
    "#### 2. Gradient Boosted-Tree Classifier"
   ]
  },
  {
   "cell_type": "markdown",
   "metadata": {},
   "source": [
    "First, we try with default parameters."
   ]
  },
  {
   "cell_type": "code",
   "execution_count": 21,
   "metadata": {},
   "outputs": [],
   "source": [
    "# Gradient Boosted-Tree Classifier (training with default parameters)\n",
    "gbt = GBTClassifier(featuresCol='scaledFeatures', labelCol='label')\n",
    "\n",
    "# pipeline with standard scaler\n",
    "gbt_pipeline = Pipeline(stages=[stdScaler, gbt])\n",
    "\n",
    "gbtModel = gbt_pipeline.fit(df_train)"
   ]
  },
  {
   "cell_type": "code",
   "execution_count": 326,
   "metadata": {
    "scrolled": true
   },
   "outputs": [
    {
     "name": "stdout",
     "output_type": "stream",
     "text": [
      "Gradient Boosted-Tree Classifier (train, default params)\n",
      "precision:1.0000, recall:1.0000, f1:1.0000\n",
      "(TP:37, TN:120, FP:0, FN:0)\n"
     ]
    }
   ],
   "source": [
    "# calculate metrics with training data\n",
    "df_train_gbt = gbtModel.transform(df_train)\n",
    "_ = calculate_metrics(\n",
    "    'Gradient Boosted-Tree Classifier (train, default params)', df_train_gbt)"
   ]
  },
  {
   "cell_type": "code",
   "execution_count": 327,
   "metadata": {},
   "outputs": [
    {
     "name": "stdout",
     "output_type": "stream",
     "text": [
      "Gradient Boosted-Tree Classifier (test, default params)\n",
      "precision:0.5263, recall:0.6667, f1:0.5882\n",
      "(TP:10, TN:44, FP:9, FN:5)\n"
     ]
    }
   ],
   "source": [
    "# calculate metrics with test data\n",
    "df_test_gbt = gbtModel.transform(df_test)\n",
    "_ = calculate_metrics(\n",
    "    'Gradient Boosted-Tree Classifier (test, default params)', df_test_gbt)"
   ]
  },
  {
   "cell_type": "markdown",
   "metadata": {},
   "source": [
    ">Test set score is F1=0.5882 and it is not so bad.<br>\n",
    "While, train set score is F1=1.0, and this gap indicates over-fitting.<br>\n",
    "We try improving it by parameter tuning with grid search."
   ]
  },
  {
   "cell_type": "markdown",
   "metadata": {},
   "source": [
    "**Parameter Tuning - Gradient Boosted-Tree Classifier**<br>\n",
    "We vary 'maxIter' parameter by grid search."
   ]
  },
  {
   "cell_type": "code",
   "execution_count": 22,
   "metadata": {},
   "outputs": [],
   "source": [
    "# grid search parameters\n",
    "gbt_grid = ParamGridBuilder() \\\n",
    "    .addGrid(gbt.maxIter, [10, 20, 50]) \\\n",
    "    .build()\n",
    "\n",
    "# evaluator\n",
    "gbt_evaluator = BinaryClassificationEvaluator(\n",
    "    metricName='areaUnderPR')  # precision-recall-curve\n",
    "\n",
    "# grid search with 3 folds cross validation\n",
    "gbt_cv = CrossValidator(estimator=gbt_pipeline,\n",
    "                        estimatorParamMaps=gbt_grid,\n",
    "                        evaluator=gbt_evaluator,\n",
    "                        numFolds=3)\n",
    "\n",
    "gbtModel = gbt_cv.fit(df_train)"
   ]
  },
  {
   "cell_type": "code",
   "execution_count": 23,
   "metadata": {
    "scrolled": true
   },
   "outputs": [
    {
     "name": "stdout",
     "output_type": "stream",
     "text": [
      "Gradient Boosted-Tree Classifier (train, grid-search)\n",
      "precision:1.0000, recall:1.0000, f1:1.0000\n",
      "(TP:37, TN:120, FP:0, FN:0)\n"
     ]
    }
   ],
   "source": [
    "# calculate metrics with training data\n",
    "df_train_gbt = gbtModel.transform(df_train)\n",
    "_ = calculate_metrics(\n",
    "    'Gradient Boosted-Tree Classifier (train, grid-search)', df_train_gbt)"
   ]
  },
  {
   "cell_type": "code",
   "execution_count": 24,
   "metadata": {},
   "outputs": [
    {
     "name": "stdout",
     "output_type": "stream",
     "text": [
      "Gradient Boosted-Tree Classifier (test, grid-search)\n",
      "precision:0.5000, recall:0.6667, f1:0.5714\n",
      "(TP:10, TN:43, FP:10, FN:5)\n"
     ]
    }
   ],
   "source": [
    "# calculate metrics with test data\n",
    "df_test_gbt = gbtModel.transform(df_test)\n",
    "_ = calculate_metrics(\n",
    "    'Gradient Boosted-Tree Classifier (test, grid-search)', df_test_gbt)"
   ]
  },
  {
   "cell_type": "code",
   "execution_count": 25,
   "metadata": {},
   "outputs": [],
   "source": [
    "# save the best pipeline to a folder\n",
    "gbtModel.bestModel.write().overwrite().save('gbtModelCV')"
   ]
  },
  {
   "cell_type": "code",
   "execution_count": 26,
   "metadata": {
    "scrolled": false
   },
   "outputs": [
    {
     "data": {
      "text/plain": [
       "{Param(parent='GBTClassifier_e262b5a8270e', name='cacheNodeIds', doc='If false, the algorithm will pass trees to executors to match instances with nodes. If true, the algorithm will cache node IDs for each instance. Caching can speed up training of deeper trees.'): False,\n",
       " Param(parent='GBTClassifier_e262b5a8270e', name='checkpointInterval', doc='set checkpoint interval (>= 1) or disable checkpoint (-1). E.g. 10 means that the cache will get checkpointed every 10 iterations. Note: this setting will be ignored if the checkpoint directory is not set in the SparkContext'): 10,\n",
       " Param(parent='GBTClassifier_e262b5a8270e', name='featureSubsetStrategy', doc='The number of features to consider for splits at each tree node. Supported options: auto, all, onethird, sqrt, log2, (0.0-1.0], [1-n].'): 'all',\n",
       " Param(parent='GBTClassifier_e262b5a8270e', name='featuresCol', doc='features column name'): 'scaledFeatures',\n",
       " Param(parent='GBTClassifier_e262b5a8270e', name='labelCol', doc='label column name'): 'label',\n",
       " Param(parent='GBTClassifier_e262b5a8270e', name='lossType', doc='Loss function which GBT tries to minimize (case-insensitive). Supported options: logistic'): 'logistic',\n",
       " Param(parent='GBTClassifier_e262b5a8270e', name='maxBins', doc='Max number of bins for discretizing continuous features.  Must be >=2 and >= number of categories for any categorical feature.'): 32,\n",
       " Param(parent='GBTClassifier_e262b5a8270e', name='maxDepth', doc='Maximum depth of the tree. (>= 0) E.g., depth 0 means 1 leaf node; depth 1 means 1 internal node + 2 leaf nodes.'): 5,\n",
       " Param(parent='GBTClassifier_e262b5a8270e', name='maxIter', doc='maximum number of iterations (>= 0)'): 50,\n",
       " Param(parent='GBTClassifier_e262b5a8270e', name='maxMemoryInMB', doc='Maximum memory in MB allocated to histogram aggregation.'): 256,\n",
       " Param(parent='GBTClassifier_e262b5a8270e', name='minInfoGain', doc='Minimum information gain for a split to be considered at a tree node.'): 0.0,\n",
       " Param(parent='GBTClassifier_e262b5a8270e', name='minInstancesPerNode', doc='Minimum number of instances each child must have after split.  If a split causes the left or right child to have fewer than minInstancesPerNode, the split will be discarded as invalid. Should be >= 1.'): 1,\n",
       " Param(parent='GBTClassifier_e262b5a8270e', name='predictionCol', doc='prediction column name'): 'prediction',\n",
       " Param(parent='GBTClassifier_e262b5a8270e', name='seed', doc='random seed'): 4008971479745621441,\n",
       " Param(parent='GBTClassifier_e262b5a8270e', name='stepSize', doc='Step size (a.k.a. learning rate) in interval (0, 1] for shrinking the contribution of each estimator.'): 0.1,\n",
       " Param(parent='GBTClassifier_e262b5a8270e', name='subsamplingRate', doc='Fraction of the training data used for learning each decision tree, in range (0, 1].'): 1.0}"
      ]
     },
     "execution_count": 26,
     "metadata": {},
     "output_type": "execute_result"
    }
   ],
   "source": [
    "# extract the best model parameters\n",
    "bestGbtClassifier = gbtModel.bestModel.stages[-1]\n",
    "bestGbtClassifier.extractParamMap()"
   ]
  },
  {
   "cell_type": "markdown",
   "metadata": {},
   "source": [
    ">The best model train set score is F1=1.0 and test score is F1=0.5714 with 'maxIter'=50.<br>\n",
    "Grid search did not improve scores, but the best model score should be more stable after going through cross validation process.\n",
    "\n",
    "We plot precision-recall curve."
   ]
  },
  {
   "cell_type": "code",
   "execution_count": 27,
   "metadata": {
    "scrolled": false
   },
   "outputs": [
    {
     "name": "stdout",
     "output_type": "stream",
     "text": [
      "F1=1.0000, AUC=1.0000, AP=1.0000 train set\n",
      "F1=0.5714, AUC=0.5174, AP=0.5386 test set\n"
     ]
    },
    {
     "data": {
      "image/png": "[encoded data removed]",
      "text/plain": [
       "<matplotlib.figure.Figure at 0x7fad0c112dd8>"
      ]
     },
     "metadata": {
      "needs_background": "light"
     },
     "output_type": "display_data"
    }
   ],
   "source": [
    "# plot precision-recall curve\n",
    "fig, ax = plt.subplots(1, 2, figsize=(12, 4))\n",
    "plot_precision_recall_curve(df_train_gbt, title_addition='train set', ax=ax[0])\n",
    "plot_precision_recall_curve(df_test_gbt, title_addition='test set', ax=ax[1])\n",
    "plt.show()"
   ]
  },
  {
   "cell_type": "markdown",
   "metadata": {},
   "source": [
    ">Test set AUC is 0.5174 and it is barely above baseline (0.5)."
   ]
  },
  {
   "cell_type": "markdown",
   "metadata": {},
   "source": [
    "**Score Summary - Gradient Boosted-Tree Classifier**\n",
    "\n",
    "|CV(maxIter=50)|precison|recall|f1|AUC|AP|\n",
    "|---|---|---|---|---|---|\n",
    "|mini data train set|1.0000|1.0000|1.0000|1.0000|1.0000|\n",
    "|mini data test set|0.5000|0.6667|0.5714|0.5174|0.5386|\n",
    "\n",
    ">Train set score F1=1.0 definitely indicates over-fitting. But test set score F1=0.5714 is not so bad.<br>\n",
    "\n",
    ">For reference, result of modeling with medium size data is shown as follows.\n",
    "\n",
    "|CV(maxIter=50)|precison|recall|f1|AUC|AP|\n",
    "|---|---|---|---|---|---|\n",
    "|medium data train set|1.0000|1.0000|1.0000|1.0000|1.0000|\n",
    "|medium data test set|0.5938|0.6333|0.6129|0.6253|0.6333|\n",
    "\n",
    ">Train set score is still F1=1.0, but test set scores are higher than mini set case.<br>\n",
    "It might be because over-fitting is relieved by larger dataset."
   ]
  },
  {
   "cell_type": "markdown",
   "metadata": {},
   "source": [
    "**Feature Importances**<br>\n",
    "Feature importances can be extracted from Gradient Boosted-Tree model."
   ]
  },
  {
   "cell_type": "code",
   "execution_count": 28,
   "metadata": {
    "scrolled": true
   },
   "outputs": [
    {
     "data": {
      "text/plain": [
       "array([ 0.2716972 ,  0.063029  ,  0.01721443,  0.05029233,  0.03618423,\n",
       "        0.05167619,  0.02291726,  0.01275392,  0.02568938,  0.02134946,\n",
       "        0.08800991,  0.09177802,  0.05201915,  0.02510823,  0.01989973,\n",
       "        0.04197814,  0.01910125,  0.08930217])"
      ]
     },
     "execution_count": 28,
     "metadata": {},
     "output_type": "execute_result"
    }
   ],
   "source": [
    "# load trained Gradient Boosted-Tree Classifier model from folder\n",
    "saved_gbtModel = PipelineModel.load('gbtModel')\n",
    "\n",
    "# get the best model and its feature importances\n",
    "bestGbtModel = saved_gbtModel.stages[-1]\n",
    "feature_importances = bestGbtModel.featureImportances.toArray()\n",
    "feature_importances"
   ]
  },
  {
   "cell_type": "code",
   "execution_count": 29,
   "metadata": {},
   "outputs": [
    {
     "data": {
      "text/plain": [
       "array(['songInterval', 'paidRatio', 'About', 'Add_Friend',\n",
       "       'Add_to_Playlist', 'Downgrade', 'Error', 'Help', 'Home', 'Logout',\n",
       "       'Roll_Advert', 'Save_Settings', 'Settings', 'Submit_Downgrade',\n",
       "       'Submit_Upgrade', 'Thumbs_Down', 'Thumbs_Up', 'Upgrade'], \n",
       "      dtype='<U16')"
      ]
     },
     "execution_count": 29,
     "metadata": {},
     "output_type": "execute_result"
    }
   ],
   "source": [
    "# change feature_labels to numpy array\n",
    "feature_labels_arr = np.array(feature_labels)\n",
    "feature_labels_arr"
   ]
  },
  {
   "cell_type": "code",
   "execution_count": 30,
   "metadata": {},
   "outputs": [],
   "source": [
    "# sort feature importances and get indices\n",
    "sorted_indices = np.argsort(feature_importances)[::-1]\n",
    "\n",
    "# get sorted importance list and label list\n",
    "sorted_labels = feature_labels_arr[sorted_indices]\n",
    "sorted_importances = feature_importances[sorted_indices]\n",
    "\n",
    "# scale to max value\n",
    "sorted_importances = sorted_importances / np.max(sorted_importances)"
   ]
  },
  {
   "cell_type": "code",
   "execution_count": 31,
   "metadata": {
    "scrolled": true
   },
   "outputs": [
    {
     "data": {
      "image/png": "[encoded data removed]",
      "text/plain": [
       "<matplotlib.figure.Figure at 0x7fad0c127be0>"
      ]
     },
     "metadata": {
      "needs_background": "light"
     },
     "output_type": "display_data"
    }
   ],
   "source": [
    "# plot feature importances (Gradient Boosted-Tree Classifier)\n",
    "sns.barplot(x=sorted_importances, y=sorted_labels, orient='h', color='blue')\n",
    "plt.title('Sparkify churn model feature importances (GBT classifier)')\n",
    "plt.xlabel('Importance (scaled to max value)')\n",
    "plt.show()"
   ]
  },
  {
   "cell_type": "markdown",
   "metadata": {},
   "source": [
    ">'songInterval' (song inteval) is the most important feature for the Gradient Boosted-Tree model with mini dataset.<br>\n",
    "\n",
    ">Medium set result also shows that song interval is the most important. But the ranking of other features are different. (Please refer to medium set note.)"
   ]
  },
  {
   "cell_type": "markdown",
   "metadata": {},
   "source": [
    "# Summary and Conclusion\n",
    "Sparkify event log data was analyzed and churn prediction models were built.<br>\n",
    "In order to handle big data by cluster computing, Pyspark was mainly used for data preprocessing and modeling.<br>\n",
    "Mini size dataset was worked on local workspace (this note), and medium size dataset was worked on IBM Watson Studio (another note).\n",
    "\n",
    "**Exploratory Data Analysis and Feature Engineering**<br>\n",
    "User event timeline patterns were visualized, comparing churn and no-churn groups.<br>\n",
    "Differences were observed in event blank patterns. Thus, song play intervals were taken into modeling features.<br>\n",
    "Paid song ratio, and other events' count per song, were also taken into features.<br>\n",
    "\n",
    "**Modeling and Reflection**<br>\n",
    "Logistic Regression and Gradient Boosted-Tree Classifier were tried for churn prediction modeling.<br>\n",
    "\n",
    "Logistic Regression did not show good performance.<br>\n",
    "\n",
    "|LR (maxIter=200)|precison|recall|f1|AUC|AP|\n",
    "|---|---|---|---|---|---|\n",
    "|mini data train set|0.8333|0.4054|0.5455|0.7382|0.7414|\n",
    "|mini data test set|0.4000|0.2667|0.3200|0.3189|0.3555|\n",
    "\n",
    "|LR (maxIter=10)|precison|recall|f1|AUC|AP|\n",
    "|---|---|---|---|---|---|\n",
    "|medium data train set|0.8333|0.4348|0.5714|0.6514|0.6570|\n",
    "|medium data test set|0.5000|0.1333|0.2105|0.5195|0.5366|\n",
    "\n",
    "Test set scores were F1=0.32 (mini set) and F1=0.21 (medium set).<br>\n",
    "Train set scores were F1=0.55 (mini set) and F1=0.57 (medium set).<br>\n",
    "As both of train set and test set scores were not good, it is presumed that the features were exceeding learning capacity of the model.<br>\n",
    "\n",
    "On the other hand, Gradient Boosted-Tree Classifier showed pretty good performance. <br>\n",
    "\n",
    "|GBT (maxIter=50)|precison|recall|f1|AUC|AP|\n",
    "|---|---|---|---|---|---|\n",
    "|mini data train set|1.0000|1.0000|1.0000|1.0000|1.0000|\n",
    "|mini data test set|0.5000|0.6667|0.5714|0.5174|0.5386|\n",
    "\n",
    "|GBT (maxIter=50)|precison|recall|f1|AUC|AP|\n",
    "|---|---|---|---|---|---|\n",
    "|medium data train set|1.0000|1.0000|1.0000|1.0000|1.0000|\n",
    "|medium data test set|0.5938|0.6333|0.6129|0.6253|0.6333|\n",
    "\n",
    "Test set scores were F1=0.57 (mini set) and F1=0.61 (medium set).<br>\n",
    "Train set scores were F1=1.0 with both mini set and medium set data.<br>\n",
    "As train set scores were 1.0, indicating over-fitting, it is presumed that the model scored higher with larger dataset due to less over-fitting effect.\n",
    "\n",
    "If we remember that actual churn rate of this data is about 23%, random guess scores can be calculated as following cell. And random guess F1 scores can be up to 0.37. Logisitc Regresssion score is same level as random guess, while Gradient Boosted-Tree Classifier is clearly higher than random guess.\n",
    "\n",
    "Feature importances were extracted from the Gradient Boosted-Tree Classifier, and song intervals feature was found to be the most important for the model. This result is supporting the observed difference of timeline event patterns in visualization. (By the way, it is not intuitively understandable why churn users have less song intervals in average. We would need business segment inputs and further analysis to find it.)\n",
    "\n",
    "\n",
    "**Improvement Ideas**\n",
    "- For both models, adding or reducing features could be tried. For example, gender, user-agent, number of distinct songs or artist, could be added.\n",
    "- For Gradient Boosted-Tree Classifier, full size dataset might further improve performance if over-fitting effect is relieved by the data size.  (It is omitted due to budget constrain this time.)\n",
    "- This time, song play intervals were simply averaged for each user. Instead, it might be interesting if we could put the timeline event patterns as compressional wave, and extract frequency components for features."
   ]
  },
  {
   "cell_type": "markdown",
   "metadata": {},
   "source": [
    "---\n",
    "**Random Guess Scores**<br>\n",
    "When actual churn rate is 23% and we randomly guess number of A users as churn out of total N users, our chance of correct answers are as follows.<br>\n",
    "- Number of True Positive(TP) = A x 0.23\n",
    "- Number of True Negative(TN) = (N - A) x 0.77\n",
    "\n",
    "And our chance of wrong answers are as follows.\n",
    "- Number of False Positive(FP) = (N - A) x 0.23\n",
    "- Number of False Negative(FN) = A x 0.77\n",
    "\n",
    "Then, Precision, Recall and F1 score can be calculated as follows.\n",
    "- Precison = TP / (TP + FP) = A x 0.23 / (A x 0.23 + (N - A) x 0.23) = A/N\n",
    "- Recall = TP / (TP + FN) = A x 0.23 / (A x 0.23 + A x 0.77) = 0.23<br>\n",
    "- F1 = 2 x Precision x Recall / (Precision + Recall) = 2 x (A/N) x 0.23 / (A/N + 0.23)\n",
    "\n",
    "Precision and F1 depend on number of churn predicition in total number, A/N.<br>\n",
    "We plot chart as follows."
   ]
  },
  {
   "cell_type": "code",
   "execution_count": 15,
   "metadata": {},
   "outputs": [
    {
     "name": "stdout",
     "output_type": "stream",
     "text": [
      "F1:[0.0, 0.1393939393939394, 0.21395348837209302, 0.26037735849056609, 0.29206349206349208, 0.31506849315068497, 0.33253012048192776, 0.34623655913978502, 0.35728155339805828, 0.36637168141592918, 0.37398373983739841]\n"
     ]
    },
    {
     "data": {
      "image/png": "[encoded data removed]",
      "text/plain": [
       "<matplotlib.figure.Figure at 0x7f0a6fab74e0>"
      ]
     },
     "metadata": {
      "needs_background": "light"
     },
     "output_type": "display_data"
    }
   ],
   "source": [
    "AinN = np.arange(0, 1+0.1, 0.1)\n",
    "precision = AinN\n",
    "recall = [0.23] * len(AinN)\n",
    "f1 = [2 * an * 0.23 / (an + 0.23) for an in AinN]\n",
    "print('F1:{}'.format(f1))\n",
    "\n",
    "# plot\n",
    "plt.plot(AinN, precision, label='Precision')\n",
    "plt.plot(AinN, recall, label='Recall')\n",
    "plt.plot(AinN, f1, label='F1')\n",
    "plt.title('Random guess scores')\n",
    "plt.xlabel('number of churn prediction by random guess (scaled by total number)')\n",
    "plt.ylabel('score')\n",
    "plt.legend()\n",
    "plt.show()"
   ]
  },
  {
   "cell_type": "markdown",
   "metadata": {},
   "source": [
    "---\n",
    "# Final Steps\n",
    "Clean up your code, adding comments and renaming variables to make the code easier to read and maintain. Refer to the Spark Project Overview page and Data Scientist Capstone Project Rubric to make sure you are including all components of the capstone project and meet all expectations. Remember, this includes thorough documentation in a README file in a Github repository, as well as a web app or blog post."
   ]
  },
  {
   "cell_type": "markdown",
   "metadata": {},
   "source": [
    "---\n",
    "**Web Application**<br>\n",
    "A demonstrative web application will be separately created, and we prepare following for that.<br>\n",
    "- Preprocessing pipeline (__preproModel/__): Pipeline that cleans and transforms data to features and label. We have saved it to a folder earlier.\n",
    "- Trained classification model (__gbtModelCV/__): Gradient Boosted-Tree Classifier. We have saved trained model to a folder earlier.\n",
    "- Test set user ID list (__test_set_user_ids.csv__): This will be used to make demo data in the web application. It is prepared as follows."
   ]
  },
  {
   "cell_type": "markdown",
   "metadata": {},
   "source": [
    "First, we need to recreate the same test set as we used earlier in order to get userId from it.<br>"
   ]
  },
  {
   "cell_type": "code",
   "execution_count": 26,
   "metadata": {},
   "outputs": [],
   "source": [
    "# load preprocess pipeline from folder\n",
    "preproModel = PipelineModel.load('preproModel')"
   ]
  },
  {
   "cell_type": "code",
   "execution_count": 27,
   "metadata": {},
   "outputs": [],
   "source": [
    "# process raw data with the loaded pipeline model\n",
    "processed_data = preproModel.transform(data)"
   ]
  },
  {
   "cell_type": "code",
   "execution_count": 28,
   "metadata": {},
   "outputs": [],
   "source": [
    "# train, test split (use only test set for application)\n",
    "_, df_test = processed_data.randomSplit([0.7, 0.3], seed=24)"
   ]
  },
  {
   "cell_type": "code",
   "execution_count": null,
   "metadata": {},
   "outputs": [],
   "source": [
    "# changed to Pandas dataframe and save to CSV\n",
    "pd_userId = df_test.select('userId').toPandas()\n",
    "pd_userId.to_csv('test_set_user_ids.csv')"
   ]
  },
  {
   "cell_type": "markdown",
   "metadata": {},
   "source": [
    "Now test set user ID list is saved to a CSV file. <br>\n",
    "Web application will use it for making demo data.<br>\n",
    "For overview of the web application, please refer to README.MD file."
   ]
  }
 ],
 "metadata": {
  "kernelspec": {
   "display_name": "Python [conda env:streaming]",
   "language": "python",
   "name": "conda-env-streaming-py"
  },
  "language_info": {
   "codemirror_mode": {
    "name": "ipython",
    "version": 3
   },
   "file_extension": ".py",
   "mimetype": "text/x-python",
   "name": "python",
   "nbconvert_exporter": "python",
   "pygments_lexer": "ipython3",
   "version": "3.6.8"
  }
 },
 "nbformat": 4,
 "nbformat_minor": 2
}
