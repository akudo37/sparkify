{
 "cells": [
  {
   "cell_type": "markdown",
   "metadata": {},
   "source": [
    "# Sparkify Project Workspace on IBM Watson Studio (for medium size data)\n",
    "This is a notebook for medium size dataset of Sparkify project worked on IBM Watson Studo.<br>\n",
    "This note is mainly focusing on preprocessing and modeling steps in order to verify those pipelines scripts actually work with parallel computing on Spark cluster.<br>\n",
    "For other steps, such as 'data exploratory analysis' and 'summary and conclusion', please refer to mini dataset note."
   ]
  },
  {
   "cell_type": "code",
   "execution_count": 1,
   "metadata": {},
   "outputs": [
    {
     "name": "stdout",
     "output_type": "stream",
     "text": [
      "Waiting for a Spark session to start...\n",
      "Spark Initialization Done! ApplicationId = app-20190303013427-0000\n",
      "KERNEL_ID = f096b7fb-bede-4903-996e-276c0763a47d\n"
     ]
    }
   ],
   "source": [
    "# import libraries\n",
    "from sklearn.metrics import average_precision_score\n",
    "from sklearn.metrics import auc as Fauc\n",
    "from sklearn.metrics import f1_score\n",
    "from sklearn.metrics import precision_recall_curve\n",
    "import seaborn as sns\n",
    "from pyspark.sql import SparkSession\n",
    "from pyspark.sql.types import IntegerType, FloatType, StringType\n",
    "from pyspark.sql.functions import col, udf, asc, desc, min, max, count, avg, stddev_pop, countDistinct, last, first, when\n",
    "from pyspark.sql.functions import isnan, lit, greatest, round\n",
    "from pyspark.sql.functions import sum as Fsum\n",
    "from pyspark.sql import Window\n",
    "from pyspark.ml.feature import VectorAssembler, StringIndexer, OneHotEncoderEstimator, StandardScaler, SQLTransformer\n",
    "from pyspark.ml.pipeline import Pipeline, PipelineModel\n",
    "from pyspark.ml.classification import LogisticRegression, RandomForestClassifier, GBTClassifier\n",
    "from pyspark.ml.tuning import CrossValidator, ParamGridBuilder\n",
    "from pyspark.ml.evaluation import BinaryClassificationEvaluator\n",
    "\n",
    "import numpy as np\n",
    "import datetime\n",
    "import matplotlib.pyplot as plt\n",
    "%matplotlib inline"
   ]
  },
  {
   "cell_type": "markdown",
   "metadata": {},
   "source": [
    "# Load and Clean Dataset\n",
    "In this workspace, the medium-dataset file is `medium_sparkify_event_data.json`. Load and clean the dataset, checking for invalid or missing data - for example, records without userids or sessionids. "
   ]
  },
  {
   "cell_type": "code",
   "execution_count": 2,
   "metadata": {},
   "outputs": [],
   "source": [
    "from pyspark.sql import SparkSession\n",
    "import ibmos2spark\n",
    "# @hidden_cell\n",
    "credentials = {\n",
    "    'endpoint': 'https://s3.ap-geo.objectstorage.service.networklayer.com',\n",
    "    'service_id': 'iam-ServiceId-b7451128-76da-4d1f-91f7-ea9cfa95a0c3',\n",
    "    'iam_service_endpoint': 'https://iam.bluemix.net/oidc/token',\n",
    "    'api_key': '1Eto0p8TixF0d9hXWPtvjNO0GhIqHOHny7jxWW3XW6SZ'\n",
    "}\n",
    "\n",
    "configuration_name = 'os_46057101a85342f0a2ce2402774f675b_configs'\n",
    "cos = ibmos2spark.CloudObjectStorage(\n",
    "    sc, credentials, configuration_name, 'bluemix_cos')\n",
    "\n",
    "spark = SparkSession.builder.getOrCreate()\n",
    "# Since JSON data can be semi-structured and contain additional metadata, it is possible that you might face issues with the DataFrame layout.\n",
    "# Please read the documentation of 'SparkSession.read()' to learn more about the possibilities to adjust the data loading.\n",
    "# PySpark documentation: http://spark.apache.org/docs/2.0.2/api/python/pyspark.sql.html#pyspark.sql.DataFrameReader.json\n",
    "\n",
    "data = spark.read.json(cos.url(\n",
    "    'medium-sparkify-event-data.json', 'sparkify-donotdelete-pr-pyag0kzbec47t2'))\n",
    "# df_data_1.take(5)"
   ]
  },
  {
   "cell_type": "code",
   "execution_count": 3,
   "metadata": {
    "scrolled": false
   },
   "outputs": [
    {
     "data": {
      "text/plain": [
       "[Row(artist='Martin Orford', auth='Logged In', firstName='Joseph', gender='M', itemInSession=20, lastName='Morales', length=597.55057, level='free', location='Corpus Christi, TX', method='PUT', page='NextSong', registration=1532063507000, sessionId=292, song='Grand Designs', status=200, ts=1538352011000, userAgent='\"Mozilla/5.0 (Macintosh; Intel Mac OS X 10_9_4) AppleWebKit/537.36 (KHTML, like Gecko) Chrome/36.0.1985.125 Safari/537.36\"', userId='293'),\n",
       " Row(artist=\"John Brown's Body\", auth='Logged In', firstName='Sawyer', gender='M', itemInSession=74, lastName='Larson', length=380.21179, level='free', location='Houston-The Woodlands-Sugar Land, TX', method='PUT', page='NextSong', registration=1538069638000, sessionId=97, song='Bulls', status=200, ts=1538352025000, userAgent='\"Mozilla/5.0 (Macintosh; Intel Mac OS X 10_9_4) AppleWebKit/537.36 (KHTML, like Gecko) Chrome/36.0.1985.143 Safari/537.36\"', userId='98'),\n",
       " Row(artist='Afroman', auth='Logged In', firstName='Maverick', gender='M', itemInSession=184, lastName='Santiago', length=202.37016, level='paid', location='Orlando-Kissimmee-Sanford, FL', method='PUT', page='NextSong', registration=1535953455000, sessionId=178, song='Because I Got High', status=200, ts=1538352118000, userAgent='\"Mozilla/5.0 (Macintosh; Intel Mac OS X 10_9_4) AppleWebKit/537.36 (KHTML, like Gecko) Chrome/36.0.1985.143 Safari/537.36\"', userId='179'),\n",
       " Row(artist=None, auth='Logged In', firstName='Maverick', gender='M', itemInSession=185, lastName='Santiago', length=None, level='paid', location='Orlando-Kissimmee-Sanford, FL', method='PUT', page='Logout', registration=1535953455000, sessionId=178, song=None, status=307, ts=1538352119000, userAgent='\"Mozilla/5.0 (Macintosh; Intel Mac OS X 10_9_4) AppleWebKit/537.36 (KHTML, like Gecko) Chrome/36.0.1985.143 Safari/537.36\"', userId='179'),\n",
       " Row(artist='Lily Allen', auth='Logged In', firstName='Gianna', gender='F', itemInSession=22, lastName='Campos', length=194.53342, level='paid', location='Mobile, AL', method='PUT', page='NextSong', registration=1535931018000, sessionId=245, song='Smile (Radio Edit)', status=200, ts=1538352124000, userAgent='Mozilla/5.0 (Windows NT 6.1; WOW64; rv:31.0) Gecko/20100101 Firefox/31.0', userId='246')]"
      ]
     },
     "execution_count": 3,
     "metadata": {},
     "output_type": "execute_result"
    }
   ],
   "source": [
    "# check contents\n",
    "data.take(5)"
   ]
  },
  {
   "cell_type": "markdown",
   "metadata": {},
   "source": [
    "---\n",
    "### Data Cleaning"
   ]
  },
  {
   "cell_type": "markdown",
   "metadata": {},
   "source": [
    "The script is in form of transformer in order to combine with label definition and feature engineering steps and put into one pipeline.<br>\n",
    ">PS: There is a feedback from feature engineering step and we also have to exclude rows of users who have only 1 song play count or less. The procedure is added into the end of script."
   ]
  },
  {
   "cell_type": "code",
   "execution_count": 93,
   "metadata": {},
   "outputs": [],
   "source": [
    "# Data Cleaner (subroutine)\n",
    "def add_data_cleaner():\n",
    "    '''\n",
    "    OUTPUT:\n",
    "    stages - (list) list of transformer to be used as 'stages' argument of pyspark Pipeline() constructor\n",
    "\n",
    "    DESCRIPTION:\n",
    "    This is a subroutine of create_preprocess_pipeline() function.\n",
    "    Stages added by this function will clean raw pyspark dataframe for next steps.\n",
    "    '''\n",
    "    stages = []  # pipeline stage list\n",
    "\n",
    "    # filter rows with userId==Null or sessionId==Null, just in case\n",
    "    sqlTrans = SQLTransformer(\n",
    "        statement=\"SELECT * FROM __THIS__ WHERE userId IS NOT NULL AND sessionId IS NOT NULL\")\n",
    "    stages.append(sqlTrans)\n",
    "\n",
    "    # drop empty user id row\n",
    "    sqlTrans = SQLTransformer(\n",
    "        statement=\"SELECT * FROM __THIS__ WHERE userId != ''\")\n",
    "    stages.append(sqlTrans)\n",
    "\n",
    "    # drop 'Logged-Out' state and 'Guest' state\n",
    "    sqlTrans = SQLTransformer(\n",
    "        statement=\"SELECT * FROM __THIS__ WHERE auth != 'Logged Out' AND auth != 'Guest'\")\n",
    "    stages.append(sqlTrans)\n",
    "\n",
    "    # exclude rows with user who has only one song play or less\n",
    "    sqlTrans = SQLTransformer(statement=\" \\\n",
    "        SELECT * \\\n",
    "        FROM __THIS__ \\\n",
    "        WHERE userId NOT IN ( \\\n",
    "            SELECT DISTINCT userId \\\n",
    "            FROM \\\n",
    "            (SELECT userId, page, \\\n",
    "                COUNT(CASE WHEN page = 'NextSong' THEN page END) \\\n",
    "                OVER(PARTITION BY userId) AS songCount \\\n",
    "            FROM __THIS__) AS user_page_count \\\n",
    "            WHERE user_page_count.songCount < 2)\")\n",
    "    stages.append(sqlTrans)\n",
    "\n",
    "    return stages"
   ]
  },
  {
   "cell_type": "markdown",
   "metadata": {},
   "source": [
    "---\n",
    "# Exploratory Data Analysis\n",
    "When you're working with the full dataset, perform EDA by loading a small subset of the data and doing basic manipulations within Spark. In this workspace, you are already provided a small subset of data you can explore.\n",
    "\n",
    "### Define Churn\n",
    "\n",
    "Once you've done some preliminary analysis, create a column `Churn` to use as the label for your model. I suggest using the `Cancellation Confirmation` events to define your churn, which happen for both paid and free users. As a bonus task, you can also look into the `Downgrade` events.\n",
    "\n",
    "### Explore Data\n",
    "Once you've defined churn, perform some exploratory data analysis to observe the behavior for users who stayed vs users who churned. You can start by exploring aggregates on these two groups of users, observing how much of a specific action they experienced per a certain time unit or number of songs played."
   ]
  },
  {
   "cell_type": "markdown",
   "metadata": {},
   "source": [
    "---\n",
    "### Label Definition"
   ]
  },
  {
   "cell_type": "markdown",
   "metadata": {},
   "source": [
    "Label definition steps are combined into following script.<br>\n",
    "The script is in form of transformer so that it can be combined with data cleaning and feature engineering steps and put into one pipeline.<br>"
   ]
  },
  {
   "cell_type": "code",
   "execution_count": 5,
   "metadata": {},
   "outputs": [],
   "source": [
    "# Label Maker (subroutine)\n",
    "def add_label_maker(stages):\n",
    "    '''\n",
    "    INPUT:\n",
    "    stages - (list) list of transformer to be used as 'stages' argument of pyspark Pipeline() constructor\n",
    "                It should be an output of 'create_data_cleaner()' function.\n",
    "\n",
    "    OUTPUT:\n",
    "    stages - (list) list of transformer to be used as 'stages' argument of pyspark Pipeline() constructor\n",
    "\n",
    "    DESCRIPTION:\n",
    "    This is a subroutine of create_preprocess_pipeline() function.\n",
    "    Stages added by this function will make label column in target pyspark dataframe.\n",
    "    It also drops rows which the label column directly depends on.\n",
    "    '''\n",
    "    # 'churn_event'\n",
    "    # add a column to store churn event as integer\n",
    "    sqlTrans = SQLTransformer(statement=\" \\\n",
    "        SELECT *, \\\n",
    "            CASE WHEN page = 'Cancellation Confirmation' THEN 1 ELSE 0 END AS churn_event \\\n",
    "        FROM __THIS__\")\n",
    "    stages.append(sqlTrans)\n",
    "\n",
    "    # 'Churn'\n",
    "    # add a column to store cumulative sum of churn flag\n",
    "    sqlTrans = SQLTransformer(statement=\" \\\n",
    "        SELECT *, \\\n",
    "            MAX(churn_event) OVER ( \\\n",
    "                PARTITION BY userId \\\n",
    "            ) AS Churn \\\n",
    "        FROM __THIS__\")\n",
    "    stages.append(sqlTrans)\n",
    "\n",
    "    return stages"
   ]
  },
  {
   "cell_type": "markdown",
   "metadata": {},
   "source": [
    "---\n",
    "### Feature Exploration\n",
    "Feature exploration section is omitted for medium size dataset.<br>\n",
    "Please refer to mini size dataset note for feature exploration."
   ]
  },
  {
   "cell_type": "markdown",
   "metadata": {},
   "source": [
    "---\n",
    "# Feature Engineering\n",
    "Once you've familiarized yourself with the data, build out the features you find promising to train your model on. To work with the full dataset, you can follow the following steps.\n",
    "- Write a script to extract the necessary features from the smaller subset of data\n",
    "- Ensure that your script is scalable, using the best practices discussed in Lesson 3\n",
    "- Try your script on the full data set, debugging your script if necessary\n",
    "\n",
    "If you are working in the classroom workspace, you can just extract features based on the small subset of data contained here. Be sure to transfer over this work to the larger dataset when you work on your Spark cluster."
   ]
  },
  {
   "cell_type": "markdown",
   "metadata": {},
   "source": [
    "---\n",
    "**Dataset Contents**<br>\n",
    "We will prepare following data by feature engineering.\n",
    "* User ID: index\n",
    "* Label: churned or not\n",
    "* Features: \n",
    "    * song play event interval averaged for each user\n",
    "    * event counts for other types of events, divided by total song count for each user\n",
    "        * 'Cancel' and 'Cancellation Confirmation' events will be dropped from features."
   ]
  },
  {
   "cell_type": "markdown",
   "metadata": {},
   "source": [
    "---\n",
    "**Structure of scripts**<br>\n",
    ">* create_preprocess_pipeline() : Combine following three subroutines and create a pipeline of total data preprocessing.<br>\n",
    ">>* add_data_cleaner() : Subroutine to add data cleaner stages in the pipeline. Shown earlier in Data Cleaning section.<br>\n",
    ">>* add_label_maker(): Subroutine to add label maker stages in the pipeline. Shown earlier in Label Definition section.<br>\n",
    ">>* add_features_maker() : Subroutine to add features maker stages in the pipeline."
   ]
  },
  {
   "cell_type": "code",
   "execution_count": 98,
   "metadata": {},
   "outputs": [],
   "source": [
    "# Feature Creater (subroutine)\n",
    "def add_features_maker(stages):\n",
    "    '''\n",
    "    INPUT:\n",
    "    stages - (list) list of transformer to be used as 'stages' argument of pyspark Pipeline() constructor\n",
    "                It must be an output of 'create_label_maker()' function.\n",
    "\n",
    "    OUTPUT:\n",
    "    stages - (list) list of transformer to be used as 'stages' argument of pyspark Pipeline() constructor\n",
    "    feature_labels - (list) list of feature column names for utility\n",
    "\n",
    "    DESCRIPTION:\n",
    "    This is a subroutine of create_preprocess_pipeline() function.\n",
    "    Stages added by this function will make feature columns in target pyspark dataframe.\n",
    "    '''\n",
    "    # 'event_name'\n",
    "    # replace whitespace of page column with underbar and put into a new column\n",
    "    sqlTrans = SQLTransformer(statement=\" \\\n",
    "        SELECT userId, Churn AS label, ts, registration, level, event_name \\\n",
    "        FROM ( \\\n",
    "            SELECT *, REPLACE(page, ' ', '_') AS event_name \\\n",
    "            FROM __THIS__)\")\n",
    "\n",
    "    stages.append(sqlTrans)\n",
    "\n",
    "    # 'event_name' elements\n",
    "    event_names = [\n",
    "        'About',\n",
    "        'Add_Friend',\n",
    "        'Add_to_Playlist',\n",
    "        # 'Cancel',\n",
    "        # 'Cancellation_Confirmation',\n",
    "        'Downgrade',\n",
    "        'Error',\n",
    "        'Help',\n",
    "        'Home',\n",
    "        'Logout',\n",
    "        'NextSong',\n",
    "        'Roll_Advert',\n",
    "        'Save_Settings',\n",
    "        'Settings',\n",
    "        'Submit_Downgrade',\n",
    "        'Submit_Upgrade',\n",
    "        'Thumbs_Down',\n",
    "        'Thumbs_Up',\n",
    "        'Upgrade']\n",
    "\n",
    "    # 'eventInterval'\n",
    "    # add a column to store event intervals (in seconds)\n",
    "    sqlTrans = SQLTransformer(statement=\" \\\n",
    "        SELECT *, \\\n",
    "            ((FIRST_VALUE(ts) OVER ( \\\n",
    "                PARTITION BY userId, event_name \\\n",
    "                ORDER BY ts DESC \\\n",
    "                ROWS BETWEEN 1 PRECEDING AND CURRENT ROW \\\n",
    "            ) / 1000) - (LAST_VALUE(ts) OVER ( \\\n",
    "                PARTITION BY userId, event_name \\\n",
    "                ORDER BY ts DESC \\\n",
    "                ROWS BETWEEN 1 PRECEDING AND CURRENT ROW \\\n",
    "            ) / 1000)) AS eventInterval \\\n",
    "        FROM __THIS__\")\n",
    "\n",
    "    stages.append(sqlTrans)\n",
    "\n",
    "    # 'lastTS'\n",
    "    # add a column to store the last TS for each user\n",
    "    sqlTrans = SQLTransformer(statement=\" \\\n",
    "        SELECT *, \\\n",
    "            (FIRST_VALUE(ts) OVER ( \\\n",
    "                PARTITION BY userId, event_name \\\n",
    "                ORDER BY ts DESC \\\n",
    "                ROWS BETWEEN UNBOUNDED PRECEDING AND CURRENT ROW \\\n",
    "            )) AS lastTS \\\n",
    "        FROM __THIS__\")\n",
    "\n",
    "    stages.append(sqlTrans)\n",
    "\n",
    "    # 'trueInterval'\n",
    "    # set the last TS row's interval value to Null\n",
    "    sqlTrans = SQLTransformer(statement=\" \\\n",
    "        SELECT *, \\\n",
    "            CASE WHEN ts == lastTS THEN NULL ELSE eventInterval END AS trueInterval \\\n",
    "        FROM __THIS__\")\n",
    "\n",
    "    stages.append(sqlTrans)\n",
    "\n",
    "    # 'trueInterval'(update), 'pageCount', 'paidCount', 'songCount'\n",
    "    # group by userId and page\n",
    "    # we get average of interval for NextSong, and count for other events\n",
    "    # we also count paid songs, and total songs\n",
    "    sqlTrans = SQLTransformer(statement=\" \\\n",
    "        SELECT label, userId, event_name, \\\n",
    "            AVG(trueInterval) AS trueInterval, \\\n",
    "            COUNT(event_name) AS pageCount, \\\n",
    "            COUNT(CASE WHEN event_name = 'NextSong' AND level = 'paid' THEN event_name END) AS paidCount, \\\n",
    "            COUNT(CASE WHEN event_name = 'NextSong' THEN event_name END) AS songCount \\\n",
    "        FROM __THIS__ \\\n",
    "        GROUP BY label, userId, event_name\")\n",
    "\n",
    "    stages.append(sqlTrans)\n",
    "\n",
    "    # 'songInterval'\n",
    "    # add a column to store interval when page is NextSong\n",
    "    sqlTrans = SQLTransformer(statement=\" \\\n",
    "        SELECT *, \\\n",
    "            CASE WHEN event_name == 'NextSong' THEN trueInterval END AS songInterval \\\n",
    "        FROM __THIS__\")\n",
    "\n",
    "    stages.append(sqlTrans)\n",
    "\n",
    "    # 'songInterval'(update), 'paidRatio', element of event_names list as new columns\n",
    "    # group by userId, average song intervals, and count other events and vidide the sum by songCount\n",
    "\n",
    "    # loop event names to create sql lines and concatenate them\n",
    "    sql_line = ''.join(['(COUNT(CASE WHEN event_name == \"{}\" THEN pageCount END) / SUM(songCount)) AS {},'\n",
    "                        .format(name, name) for name in event_names])[:-1]\n",
    "\n",
    "    sqlTrans = SQLTransformer(statement=\" \\\n",
    "        SELECT label, userId, \\\n",
    "            MAX(songInterval) AS songInterval, \\\n",
    "            (MAX(paidCount) / MAX(songCount)) AS paidRatio, \\\n",
    "            {} \\\n",
    "        FROM __THIS__ \\\n",
    "        GROUP BY label, userId\".format(sql_line))\n",
    "\n",
    "    stages.append(sqlTrans)\n",
    "\n",
    "    # 'featureVec'\n",
    "    # assemble feature columns into a vector column\n",
    "    event_names.remove('NextSong')\n",
    "    feature_columns = ['songInterval', 'paidRatio'] + event_names\n",
    "\n",
    "    assembler = VectorAssembler(\n",
    "        inputCols=feature_columns, outputCol='featureVec')\n",
    "\n",
    "    stages.append(assembler)\n",
    "\n",
    "    # store feature labels for utility\n",
    "    feature_labels = assembler.getInputCols()\n",
    "\n",
    "    return stages, feature_labels"
   ]
  },
  {
   "cell_type": "code",
   "execution_count": 99,
   "metadata": {},
   "outputs": [],
   "source": [
    "# Creating Preprocessing Pipeline (Data Cleaning + Feature Engineering)\n",
    "def create_preprocess_pipeline():\n",
    "    '''\n",
    "    OUTPUT:\n",
    "    preprocess_pipeline - (pyspark Pipeline object)\n",
    "    feature_labels - (list) string labels for corresponding feature vector elements\n",
    "\n",
    "    DESCRIPTION:\n",
    "    This function creates a pipeline for data cleaning and preprocessing.\n",
    "    It must be first 'fit' with data to create a pipeline model.\n",
    "    Then the model can 'transform' the data.\n",
    "\n",
    "    Example:\n",
    "    > preprocess_pipeline, feature_labels = create_preprocess_pipeline()\n",
    "    > preprocess_model = preprocess_pipeline.fit(data)\n",
    "    > data = preprocess_model.transform(data) \n",
    "    '''\n",
    "    # clean data\n",
    "    stages = add_data_cleaner()\n",
    "\n",
    "    # make label\n",
    "    stages = add_label_maker(stages)\n",
    "\n",
    "    # make features\n",
    "    stages, feature_labels = add_features_maker(stages)\n",
    "\n",
    "    # select only necessary columns, 'userId', 'label', 'features'\n",
    "    sqlTrans = SQLTransformer(statement=\" \\\n",
    "        SELECT userId, label, featureVec AS features \\\n",
    "        FROM __THIS__\")\n",
    "    stages.append(sqlTrans)\n",
    "\n",
    "    # create preprocessing pipeline\n",
    "    preprocess_pipeline = Pipeline(stages=stages)\n",
    "\n",
    "    return preprocess_pipeline, feature_labels"
   ]
  },
  {
   "cell_type": "markdown",
   "metadata": {},
   "source": [
    ">The scripts can be used as follows.<br>\n",
    ">>preprocess_pipeline, feature_labels = create_preprocess_pipeline()<br>\n",
    ">>preprocess_model = preprocess_pipeline.fit(data)<br>\n",
    ">>processed_data = preprocess_model.transform(data)"
   ]
  },
  {
   "cell_type": "markdown",
   "metadata": {},
   "source": [
    "---\n",
    "# Modeling\n",
    "Split the full dataset into train, test, and validation sets. Test out several of the machine learning methods you learned. Evaluate the accuracy of the various models, tuning parameters as necessary. Determine your winning model based on test accuracy and report results on the validation set. Since the churned users are a fairly small subset, I suggest using F1 score as the metric to optimize."
   ]
  },
  {
   "cell_type": "markdown",
   "metadata": {},
   "source": [
    "### Data Standardization\n",
    "We will apply standard scaling to feature vectors before sending them to classification model. <br>"
   ]
  },
  {
   "cell_type": "code",
   "execution_count": 100,
   "metadata": {},
   "outputs": [],
   "source": [
    "# Standard scaling for feature vector\n",
    "stdScaler = StandardScaler(withMean=True, withStd=True,\n",
    "                           inputCol='features', outputCol='scaledFeatures')"
   ]
  },
  {
   "cell_type": "markdown",
   "metadata": {},
   "source": [
    "---\n",
    "### Metrics\n",
    "As the churned users are fairly low in the data (~23% in case of mini dataset), we will use F1 score for model evaluation.<br>\n",
    "Metrics calculation script is prepared as follows.<br>\n",
    "\n",
    "Also prepared another script for precision-recall curve plot. It calculates F1, AUC (area under curve) and AP (average precision) as well.<br>\n",
    "ref. [How and When to Use ROC Curves and Precision-Recall Curves for Classification in Python](https://machinelearningmastery.com/roc-curves-and-precision-recall-curves-for-classification-in-python/)"
   ]
  },
  {
   "cell_type": "code",
   "execution_count": 101,
   "metadata": {},
   "outputs": [],
   "source": [
    "# prepare function for metric calculation\n",
    "def calculate_metrics(model_name, df_test_for_model, output=True):\n",
    "    '''\n",
    "    INPUT:\n",
    "    model_name - (string) classification model name\n",
    "    df_test_for_model - (pyspark dataframe) transformed test dataframe including prediction and label\n",
    "    output - (bool) whether to print metrics to stdout\n",
    "\n",
    "    OUTPUT:\n",
    "    metrics - (dictionary) dictionary storing TP, TN, FP, FN, Precision, Recall, and F1\n",
    "\n",
    "    DESCRIPTION:\n",
    "    Print out and return TP, TN, FP, FN, Precision, Recall and F1\n",
    "    '''\n",
    "    # Count True Positive, True Negative, False Positive, False Negative in test data result\n",
    "    sqlTrans = SQLTransformer(statement=\" \\\n",
    "        SELECT \\\n",
    "            SUM(CASE WHEN label = 1 AND prediction = 1 THEN 1 ELSE 0 END) AS TP, \\\n",
    "            SUM(CASE WHEN label = 0 AND prediction = 0 THEN 1 ELSE 0 END) AS TN, \\\n",
    "            SUM(CASE WHEN label = 0 AND prediction = 1 THEN 1 ELSE 0 END) AS FP, \\\n",
    "            SUM(CASE WHEN label = 1 AND prediction = 0 THEN 1 ELSE 0 END) AS FN \\\n",
    "            FROM __THIS__\")\n",
    "\n",
    "    counts = sqlTrans.transform(df_test_for_model).collect()\n",
    "\n",
    "    # calculate precision, recall and f1 score by definition\n",
    "    TP, TN, FP, FN = counts[0].TP, counts[0].TN, counts[0].FP, counts[0].FN\n",
    "    if (TP + FP) > 0:\n",
    "        Precision = TP / (TP + FP)\n",
    "    else:\n",
    "        Precision = 0\n",
    "        print('[INFO: TP + FP = 0, and Precision is set 0.]')\n",
    "\n",
    "    if (TP + FN) > 0:\n",
    "        Recall = TP / (TP + FN)\n",
    "    else:\n",
    "        Recall = 0\n",
    "        print('[INFO: TP + FN = 0, and Recall is set 0.]')\n",
    "\n",
    "    if (Recall + Precision) > 0:\n",
    "        F1_score = 2 * Recall * Precision / (Recall + Precision)\n",
    "    else:\n",
    "        F1_score = 0\n",
    "        print('[INFO: Recall + Precision = 0, and F1 is set 0.]')\n",
    "\n",
    "    if output:\n",
    "        print(model_name)\n",
    "        print('precision:{:.4f}, recall:{:.4f}, f1:{:.4f}'.format(\n",
    "            Precision, Recall, F1_score))\n",
    "        print('(TP:{}, TN:{}, FP:{}, FN:{})'.format(TP, TN, FP, FN))\n",
    "\n",
    "    metrics = {'TP': TP, 'TN': TN, 'FP': FP, 'FN': FN,\n",
    "               'Precision': Precision, 'Recall': Recall, 'F1': F1_score}\n",
    "    return metrics"
   ]
  },
  {
   "cell_type": "code",
   "execution_count": 102,
   "metadata": {},
   "outputs": [],
   "source": [
    "# Plot precision-recall curve and output F1, AUC, and AP\n",
    "def plot_precision_recall_curve(df, title_addition=None, ax=None):\n",
    "    '''\n",
    "    INPUT:\n",
    "    df - (pyspark dataframe) dataset transformed by model, including 'label', 'probability' and 'prediction' columns\n",
    "    title_addition - (str) additional text string to chart title\n",
    "    ax - (object) Axes object or array of Axes objects.\n",
    "\n",
    "    DESCRIPTION:\n",
    "    Plot precision-recall curve from transformed dataset.\n",
    "    Also output F1 score, AUC (area under curve), and AP (average precision)\n",
    "    In case ax is privided, plt.show() will not be called inside this function. (plt:matplotlib.pyplot)\n",
    "    '''\n",
    "    # change to pandas dataframe\n",
    "    label_proba = df.select('label', 'probability', 'prediction').toPandas()\n",
    "\n",
    "    # extract probability for 1\n",
    "    label_proba['proba'] = label_proba['probability'].apply(lambda x: x[1])\n",
    "\n",
    "    testy = label_proba['label']\n",
    "    probs = label_proba['proba']\n",
    "    yhat = label_proba['prediction']\n",
    "\n",
    "    # calculate precision-recall curve\n",
    "    precision, recall, thresholds = precision_recall_curve(testy, probs)\n",
    "\n",
    "    # calculate F1 score\n",
    "    f1 = f1_score(testy, yhat)\n",
    "\n",
    "    # calculate precision-recall AUC\n",
    "    auc = Fauc(recall, precision)  # Fauc is an alias of sklearn.metrics auc\n",
    "\n",
    "    # calculate average precision score\n",
    "    ap = average_precision_score(testy, probs)\n",
    "\n",
    "    print('F1={:.4f}, AUC={:.4f}, AP={:.4f} {}'.format(\n",
    "        f1, auc, ap, title_addition))\n",
    "\n",
    "    if ax is None:\n",
    "        # plot no skill\n",
    "        plt.plot([0, 1], [0.5, 0.5], linestyle='--')\n",
    "\n",
    "        # plot the roc curve for the model\n",
    "        plt.plot(recall, precision, marker='.')\n",
    "        if title_addition is not None:\n",
    "            plt.title(title_addition)\n",
    "        plt.xlabel('recall')\n",
    "        plt.ylabel('precision')\n",
    "        plt.ylim(-0.01, 1.05)\n",
    "\n",
    "        # show the plot\n",
    "        plt.show()\n",
    "    else:\n",
    "        # plot no skill\n",
    "        ax.plot([0, 1], [0.5, 0.5], linestyle='--')\n",
    "\n",
    "        # plot the roc curve for the model\n",
    "        ax.plot(recall, precision, marker='.')\n",
    "        if title_addition is not None:\n",
    "            ax.set_title(title_addition)\n",
    "        ax.set_xlabel('recall')\n",
    "        ax.set_ylabel('precision')\n",
    "        ax.set_ylim(-0.01, 1.05)"
   ]
  },
  {
   "cell_type": "markdown",
   "metadata": {},
   "source": [
    "---\n",
    "### Preprocessing\n",
    "For convenience, data preprocessing step is presented again."
   ]
  },
  {
   "cell_type": "code",
   "execution_count": 103,
   "metadata": {},
   "outputs": [],
   "source": [
    "# create preprocessing pipeline\n",
    "preprocess_pipeline, feature_labels = create_preprocess_pipeline()\n",
    "\n",
    "# fit and transform\n",
    "preprocess_model = preprocess_pipeline.fit(data)\n",
    "processed_data = preprocess_model.transform(data)"
   ]
  },
  {
   "cell_type": "markdown",
   "metadata": {},
   "source": [
    "---\n",
    "### Trainig and Test data split\n",
    "Preprocessed dataset will be randomly split into training and testing datasets in certain ratio.<br>"
   ]
  },
  {
   "cell_type": "code",
   "execution_count": 104,
   "metadata": {},
   "outputs": [],
   "source": [
    "# train, test split\n",
    "df_train, df_test = processed_data.randomSplit([0.7, 0.3], seed=24)"
   ]
  },
  {
   "cell_type": "markdown",
   "metadata": {},
   "source": [
    "---\n",
    "### Model selection\n",
    "We will use 'Logistic Regression' and 'Gradient Boosted-Tree Classifier' for modeling.<br>\n",
    "1. Logistic Regression is relatively faster to train. So it is convenient for preliminary trial.<br>\n",
    "* Gradient Boosted-Tree Classifier takes much longer time for training. But it often scores better.<br>"
   ]
  },
  {
   "cell_type": "markdown",
   "metadata": {},
   "source": [
    "#### 1. Logistic Regression"
   ]
  },
  {
   "cell_type": "markdown",
   "metadata": {},
   "source": [
    "First, we check F1 score with default parameters."
   ]
  },
  {
   "cell_type": "code",
   "execution_count": 105,
   "metadata": {},
   "outputs": [],
   "source": [
    "# Logistic Regression (training with default parameters)\n",
    "lr = LogisticRegression(featuresCol='scaledFeatures',\n",
    "                        labelCol='label', standardization=False)\n",
    "\n",
    "# pipeline with standard scaler\n",
    "lr_pipeline = Pipeline(stages=[stdScaler, lr])\n",
    "\n",
    "# training model\n",
    "lrModel = lr_pipeline.fit(df_train)"
   ]
  },
  {
   "cell_type": "code",
   "execution_count": 106,
   "metadata": {},
   "outputs": [
    {
     "name": "stdout",
     "output_type": "stream",
     "text": [
      "Logistic Regression (train, default params)\n",
      "precision:0.8611, recall:0.4493, f1:0.5905\n",
      "(TP:31, TN:235, FP:5, FN:38)\n"
     ]
    }
   ],
   "source": [
    "# calculate metrics with training data\n",
    "df_train_lr = lrModel.transform(df_train)\n",
    "_ = calculate_metrics(\n",
    "    'Logistic Regression (train, default params)', df_train_lr)"
   ]
  },
  {
   "cell_type": "code",
   "execution_count": 107,
   "metadata": {
    "scrolled": false
   },
   "outputs": [
    {
     "name": "stdout",
     "output_type": "stream",
     "text": [
      "Logistic Regression (test, default params)\n",
      "precision:0.5556, recall:0.1667, f1:0.2564\n",
      "(TP:5, TN:104, FP:4, FN:25)\n"
     ]
    }
   ],
   "source": [
    "# calculate metrics with test data\n",
    "df_test_lr = lrModel.transform(df_test)\n",
    "_ = calculate_metrics('Logistic Regression (test, default params)', df_test_lr)"
   ]
  },
  {
   "cell_type": "markdown",
   "metadata": {},
   "source": [
    ">train set score: F1=0.5905, test set score: F1=0.2564<br>\n",
    "Both scores are not so good. It indicates under-fitting.<br>\n",
    "We try improving it by parameter tuning with grid search."
   ]
  },
  {
   "cell_type": "markdown",
   "metadata": {},
   "source": [
    "---\n",
    "**Parameter Tuning - Logistic Regression**<br>\n",
    "We use grid search with three fold cross validation method.<br>\n",
    "As the churned users are fairly low in the data, we use 'the area under the precision-recall curve' for the parameter optimization.<br>\n",
    ">Ref. [BinaryClassificationEvaluator - PySpark docs](https://spark.apache.org/docs/2.2.0/api/python/pyspark.ml.html?highlight=binaryclassificationevaluator#pyspark.ml.evaluation.BinaryClassificationEvaluator)<br>\n",
    "Ref. [How and When to Use ROC Curves and Precision-Recall Curves for Classification in Python](https://machinelearningmastery.com/roc-curves-and-precision-recall-curves-for-classification-in-python/)\n"
   ]
  },
  {
   "cell_type": "markdown",
   "metadata": {},
   "source": [
    "We vary 'maxIter' parameter by grid search.<br>\n",
    "'standardization' option is set off because we have prepared standard scaler separately."
   ]
  },
  {
   "cell_type": "code",
   "execution_count": 111,
   "metadata": {},
   "outputs": [],
   "source": [
    "# Logistic Regression (training by grid search)\n",
    "lr = LogisticRegression(elasticNetParam=0.0, featuresCol='scaledFeatures',\n",
    "                        labelCol='label', standardization=False)\n",
    "\n",
    "# pipeline with standard scaler\n",
    "lr_pipeline = Pipeline(stages=[stdScaler, lr])\n",
    "\n",
    "# grid search parameters\n",
    "lr_grid = ParamGridBuilder() \\\n",
    "    .addGrid(lr.maxIter, [10, 50, 100, 200]) \\\n",
    "    .build()\n",
    "\n",
    "# evaluator\n",
    "lr_evaluator = BinaryClassificationEvaluator(\n",
    "    metricName='areaUnderPR')  # precision-recall-curves\n",
    "\n",
    "# grid search with 3 folds cross validation\n",
    "lr_cv = CrossValidator(estimator=lr_pipeline,\n",
    "                       estimatorParamMaps=lr_grid,\n",
    "                       evaluator=lr_evaluator,\n",
    "                       numFolds=3)\n",
    "\n",
    "# training model\n",
    "lrModel = lr_cv.fit(df_train)"
   ]
  },
  {
   "cell_type": "code",
   "execution_count": 112,
   "metadata": {},
   "outputs": [
    {
     "name": "stdout",
     "output_type": "stream",
     "text": [
      "Logistic Regression (train, grid-search)\n",
      "precision:0.8333, recall:0.4348, f1:0.5714\n",
      "(TP:30, TN:234, FP:6, FN:39)\n"
     ]
    }
   ],
   "source": [
    "# calculate metrics with training data\n",
    "df_train_lr = lrModel.transform(df_train)\n",
    "_ = calculate_metrics('Logistic Regression (train, grid-search)', df_train_lr)"
   ]
  },
  {
   "cell_type": "code",
   "execution_count": 113,
   "metadata": {},
   "outputs": [
    {
     "name": "stdout",
     "output_type": "stream",
     "text": [
      "Logistic Regression (test, grid-search)\n",
      "precision:0.5000, recall:0.1333, f1:0.2105\n",
      "(TP:4, TN:104, FP:4, FN:26)\n"
     ]
    }
   ],
   "source": [
    "# calculate metrics with test data\n",
    "df_test_lr = lrModel.transform(df_test)\n",
    "_ = calculate_metrics('Logistic Regression (test, grid-search)', df_test_lr)"
   ]
  },
  {
   "cell_type": "code",
   "execution_count": 114,
   "metadata": {},
   "outputs": [],
   "source": [
    "# save the best pipeline to a folder\n",
    "lrModel.bestModel.write().overwrite().save('lrModelCV')"
   ]
  },
  {
   "cell_type": "code",
   "execution_count": 115,
   "metadata": {
    "scrolled": false
   },
   "outputs": [
    {
     "data": {
      "text/plain": [
       "{Param(parent='LogisticRegression_409a81861d881193e07a', name='fitIntercept', doc='whether to fit an intercept term'): True,\n",
       " Param(parent='LogisticRegression_409a81861d881193e07a', name='family', doc='The name of family which is a description of the label distribution to be used in the model. Supported options: auto, binomial, multinomial.'): 'auto',\n",
       " Param(parent='LogisticRegression_409a81861d881193e07a', name='regParam', doc='regularization parameter (>= 0)'): 0.0,\n",
       " Param(parent='LogisticRegression_409a81861d881193e07a', name='maxIter', doc='maximum number of iterations (>= 0)'): 10,\n",
       " Param(parent='LogisticRegression_409a81861d881193e07a', name='threshold', doc='threshold in binary classification prediction, in range [0, 1]'): 0.5,\n",
       " Param(parent='LogisticRegression_409a81861d881193e07a', name='rawPredictionCol', doc='raw prediction (a.k.a. confidence) column name'): 'rawPrediction',\n",
       " Param(parent='LogisticRegression_409a81861d881193e07a', name='aggregationDepth', doc='suggested depth for treeAggregate (>= 2)'): 2,\n",
       " Param(parent='LogisticRegression_409a81861d881193e07a', name='featuresCol', doc='features column name'): 'scaledFeatures',\n",
       " Param(parent='LogisticRegression_409a81861d881193e07a', name='predictionCol', doc='prediction column name'): 'prediction',\n",
       " Param(parent='LogisticRegression_409a81861d881193e07a', name='tol', doc='the convergence tolerance for iterative algorithms (>= 0)'): 1e-06,\n",
       " Param(parent='LogisticRegression_409a81861d881193e07a', name='labelCol', doc='label column name'): 'label',\n",
       " Param(parent='LogisticRegression_409a81861d881193e07a', name='standardization', doc='whether to standardize the training features before fitting the model'): False,\n",
       " Param(parent='LogisticRegression_409a81861d881193e07a', name='probabilityCol', doc='Column name for predicted class conditional probabilities. Note: Not all models output well-calibrated probability estimates! These probabilities should be treated as confidences, not precise probabilities'): 'probability',\n",
       " Param(parent='LogisticRegression_409a81861d881193e07a', name='elasticNetParam', doc='the ElasticNet mixing parameter, in range [0, 1]. For alpha = 0, the penalty is an L2 penalty. For alpha = 1, it is an L1 penalty'): 0.0}"
      ]
     },
     "execution_count": 115,
     "metadata": {},
     "output_type": "execute_result"
    }
   ],
   "source": [
    "# extract the best model parameters\n",
    "bestLrClassifier = lrModel.bestModel.stages[-1]\n",
    "bestLrClassifier.extractParamMap()"
   ]
  },
  {
   "cell_type": "markdown",
   "metadata": {},
   "source": [
    ">The best model train set score is F1=0.5714 and test set score is F1=0.2105 with 'maxIter'=10.<br>\n",
    "Grid search did not improve scores, but the best model score should be more stable after going through cross validation process.\n",
    "\n",
    "We check precision-recall curve."
   ]
  },
  {
   "cell_type": "code",
   "execution_count": 116,
   "metadata": {
    "scrolled": false
   },
   "outputs": [
    {
     "name": "stdout",
     "output_type": "stream",
     "text": [
      "F1=0.5714, AUC=0.6514, AP=0.6570 train set\n",
      "F1=0.2105, AUC=0.5195, AP=0.5366 test set\n"
     ]
    },
    {
     "data": {
      "image/png": "[encoded data removed]",
      "text/plain": [
       "<matplotlib.figure.Figure at 0x2ac753c27ac8>"
      ]
     },
     "metadata": {},
     "output_type": "display_data"
    }
   ],
   "source": [
    "# plot precision-recall curve\n",
    "fig, ax = plt.subplots(1, 2, figsize=(12, 4))\n",
    "plot_precision_recall_curve(df_train_lr, title_addition='train set', ax=ax[0])\n",
    "plot_precision_recall_curve(df_test_lr, title_addition='test set', ax=ax[1])\n",
    "plt.show()"
   ]
  },
  {
   "cell_type": "markdown",
   "metadata": {},
   "source": [
    ">Blue dot line is the baseline of PR curve.<br>\n",
    "Test set AUC (area under PR curve) is 0.5195 and it is barely above baseline (0.5)."
   ]
  },
  {
   "cell_type": "markdown",
   "metadata": {},
   "source": [
    "**Score Summary - Logistic Regression**\n",
    "\n",
    "|CV(maxIter=10)|precison|recall|f1|AUC|AP|\n",
    "|---|---|---|---|---|---|\n",
    "|medium data train set|0.8333|0.4348|0.5714|0.6514|0.6570|\n",
    "|medium data test set|0.5000|0.1333|0.2105|0.5195|0.5366|\n",
    "\n",
    ">Test set score F1=0.2105 is not very satisfactory. Train set score F1=0.5714 is not high, eigher.<br>\n",
    "This indicates under-fitting.<br>\n",
    "\n",
    "(For further discussion by comparing with mini set result, please refer to mini set note.)"
   ]
  },
  {
   "cell_type": "markdown",
   "metadata": {},
   "source": [
    "---\n",
    "#### 2. Gradient Boosted-Tree Classifier"
   ]
  },
  {
   "cell_type": "markdown",
   "metadata": {},
   "source": [
    "First, we try with default parameters."
   ]
  },
  {
   "cell_type": "code",
   "execution_count": 108,
   "metadata": {},
   "outputs": [],
   "source": [
    "# Gradient Boosted-Tree Classifier (training with default parameters)\n",
    "gbt = GBTClassifier(featuresCol='scaledFeatures', labelCol='label')\n",
    "\n",
    "# pipeline with standard scaler\n",
    "gbt_pipeline = Pipeline(stages=[stdScaler, gbt])\n",
    "\n",
    "gbtModel = gbt_pipeline.fit(df_train)"
   ]
  },
  {
   "cell_type": "code",
   "execution_count": 109,
   "metadata": {
    "scrolled": true
   },
   "outputs": [
    {
     "name": "stdout",
     "output_type": "stream",
     "text": [
      "Gradient Boosted-Tree Classifier (train, default params)\n",
      "precision:1.0000, recall:0.9710, f1:0.9853\n",
      "(TP:67, TN:240, FP:0, FN:2)\n"
     ]
    }
   ],
   "source": [
    "# calculate metrics with training data\n",
    "df_train_gbt = gbtModel.transform(df_train)\n",
    "_ = calculate_metrics(\n",
    "    'Gradient Boosted-Tree Classifier (train, default params)', df_train_gbt)"
   ]
  },
  {
   "cell_type": "code",
   "execution_count": 110,
   "metadata": {},
   "outputs": [
    {
     "name": "stdout",
     "output_type": "stream",
     "text": [
      "Gradient Boosted-Tree Classifier (test, default params)\n",
      "precision:0.5882, recall:0.6667, f1:0.6250\n",
      "(TP:20, TN:94, FP:14, FN:10)\n"
     ]
    }
   ],
   "source": [
    "# calculate metrics with test data\n",
    "df_test_gbt = gbtModel.transform(df_test)\n",
    "_ = calculate_metrics(\n",
    "    'Gradient Boosted-Tree Classifier (test, default params)', df_test_gbt)"
   ]
  },
  {
   "cell_type": "markdown",
   "metadata": {},
   "source": [
    ">Test set score is F1=0.6250 and not so bad.<br>\n",
    "While, train set score is F1=0.9853, and this gap indicates over-fitting.<br>\n",
    "We try improving it by parameter tuning with grid search."
   ]
  },
  {
   "cell_type": "markdown",
   "metadata": {},
   "source": [
    "**Parameter Tuning - Gradient Boosted-Tree Classifier**<br>\n",
    "We vary 'maxIter' parameter by grid search."
   ]
  },
  {
   "cell_type": "code",
   "execution_count": 117,
   "metadata": {},
   "outputs": [],
   "source": [
    "# grid search parameters\n",
    "gbt_grid = ParamGridBuilder() \\\n",
    "    .addGrid(gbt.maxIter, [10, 20, 50]) \\\n",
    "    .build()\n",
    "\n",
    "# evaluator\n",
    "gbt_evaluator = BinaryClassificationEvaluator(\n",
    "    metricName='areaUnderPR')  # precision-recall-curve\n",
    "\n",
    "# grid search with 3 folds cross validation\n",
    "gbt_cv = CrossValidator(estimator=gbt_pipeline,\n",
    "                        estimatorParamMaps=gbt_grid,\n",
    "                        evaluator=gbt_evaluator,\n",
    "                        numFolds=3)\n",
    "\n",
    "gbtModel = gbt_cv.fit(df_train)"
   ]
  },
  {
   "cell_type": "code",
   "execution_count": 118,
   "metadata": {
    "scrolled": true
   },
   "outputs": [
    {
     "name": "stdout",
     "output_type": "stream",
     "text": [
      "Gradient Boosted-Tree Classifier (train, grid-search)\n",
      "precision:1.0000, recall:1.0000, f1:1.0000\n",
      "(TP:69, TN:240, FP:0, FN:0)\n"
     ]
    }
   ],
   "source": [
    "# calculate metrics with training data\n",
    "df_train_gbt = gbtModel.transform(df_train)\n",
    "_ = calculate_metrics(\n",
    "    'Gradient Boosted-Tree Classifier (train, grid-search)', df_train_gbt)"
   ]
  },
  {
   "cell_type": "code",
   "execution_count": 119,
   "metadata": {},
   "outputs": [
    {
     "name": "stdout",
     "output_type": "stream",
     "text": [
      "Gradient Boosted-Tree Classifier (test, grid-search)\n",
      "precision:0.5938, recall:0.6333, f1:0.6129\n",
      "(TP:19, TN:95, FP:13, FN:11)\n"
     ]
    }
   ],
   "source": [
    "# calculate metrics with test data\n",
    "df_test_gbt = gbtModel.transform(df_test)\n",
    "_ = calculate_metrics(\n",
    "    'Gradient Boosted-Tree Classifier (test, grid-search)', df_test_gbt)"
   ]
  },
  {
   "cell_type": "code",
   "execution_count": 120,
   "metadata": {},
   "outputs": [],
   "source": [
    "# save the best pipeline to a folder\n",
    "gbtModel.bestModel.write().overwrite().save('gbtModel')"
   ]
  },
  {
   "cell_type": "code",
   "execution_count": 121,
   "metadata": {
    "scrolled": false
   },
   "outputs": [
    {
     "data": {
      "text/plain": [
       "{Param(parent='GBTClassifier_4b25b5b00cda06ae4a42', name='checkpointInterval', doc='set checkpoint interval (>= 1) or disable checkpoint (-1). E.g. 10 means that the cache will get checkpointed every 10 iterations. Note: this setting will be ignored if the checkpoint directory is not set in the SparkContext'): 10,\n",
       " Param(parent='GBTClassifier_4b25b5b00cda06ae4a42', name='maxDepth', doc='Maximum depth of the tree. (>= 0) E.g., depth 0 means 1 leaf node; depth 1 means 1 internal node + 2 leaf nodes.'): 5,\n",
       " Param(parent='GBTClassifier_4b25b5b00cda06ae4a42', name='maxMemoryInMB', doc='Maximum memory in MB allocated to histogram aggregation.'): 256,\n",
       " Param(parent='GBTClassifier_4b25b5b00cda06ae4a42', name='subsamplingRate', doc='Fraction of the training data used for learning each decision tree, in range (0, 1].'): 1.0,\n",
       " Param(parent='GBTClassifier_4b25b5b00cda06ae4a42', name='seed', doc='random seed'): 1774859733893788419,\n",
       " Param(parent='GBTClassifier_4b25b5b00cda06ae4a42', name='predictionCol', doc='prediction column name'): 'prediction',\n",
       " Param(parent='GBTClassifier_4b25b5b00cda06ae4a42', name='stepSize', doc='Step size (a.k.a. learning rate) in interval (0, 1] for shrinking the contribution of each estimator.'): 0.1,\n",
       " Param(parent='GBTClassifier_4b25b5b00cda06ae4a42', name='lossType', doc='Loss function which GBT tries to minimize (case-insensitive). Supported options: logistic'): 'logistic',\n",
       " Param(parent='GBTClassifier_4b25b5b00cda06ae4a42', name='minInstancesPerNode', doc='Minimum number of instances each child must have after split.  If a split causes the left or right child to have fewer than minInstancesPerNode, the split will be discarded as invalid. Should be >= 1.'): 1,\n",
       " Param(parent='GBTClassifier_4b25b5b00cda06ae4a42', name='minInfoGain', doc='Minimum information gain for a split to be considered at a tree node.'): 0.0,\n",
       " Param(parent='GBTClassifier_4b25b5b00cda06ae4a42', name='labelCol', doc='label column name'): 'label',\n",
       " Param(parent='GBTClassifier_4b25b5b00cda06ae4a42', name='maxBins', doc='Max number of bins for discretizing continuous features.  Must be >=2 and >= number of categories for any categorical feature.'): 32,\n",
       " Param(parent='GBTClassifier_4b25b5b00cda06ae4a42', name='maxIter', doc='maximum number of iterations (>= 0)'): 50,\n",
       " Param(parent='GBTClassifier_4b25b5b00cda06ae4a42', name='featuresCol', doc='features column name'): 'scaledFeatures',\n",
       " Param(parent='GBTClassifier_4b25b5b00cda06ae4a42', name='cacheNodeIds', doc='If false, the algorithm will pass trees to executors to match instances with nodes. If true, the algorithm will cache node IDs for each instance. Caching can speed up training of deeper trees.'): False}"
      ]
     },
     "execution_count": 121,
     "metadata": {},
     "output_type": "execute_result"
    }
   ],
   "source": [
    "# extract the best model parameters\n",
    "bestGbtClassifier = gbtModel.bestModel.stages[-1]\n",
    "bestGbtClassifier.extractParamMap()"
   ]
  },
  {
   "cell_type": "markdown",
   "metadata": {},
   "source": [
    ">The best model train set score is F1=1.0 and test score is F1=0.6129 with 'maxIter'=50.<br>\n",
    "Grid search did not improve scores, but the best model score should be more stable after going through cross validation process.\n",
    "\n",
    "We plot precision-recall curve."
   ]
  },
  {
   "cell_type": "code",
   "execution_count": 122,
   "metadata": {
    "scrolled": false
   },
   "outputs": [
    {
     "name": "stdout",
     "output_type": "stream",
     "text": [
      "F1=1.0000, AUC=1.0000, AP=1.0000 train set\n",
      "F1=0.6129, AUC=0.6253, AP=0.6333 test set\n"
     ]
    },
    {
     "data": {
      "image/png": "[encoded data removed]",
      "text/plain": [
       "<matplotlib.figure.Figure at 0x2ac753cc4cf8>"
      ]
     },
     "metadata": {},
     "output_type": "display_data"
    }
   ],
   "source": [
    "# plot precision-recall curve\n",
    "fig, ax = plt.subplots(1, 2, figsize=(12, 4))\n",
    "plot_precision_recall_curve(df_train_gbt, title_addition='train set', ax=ax[0])\n",
    "plot_precision_recall_curve(df_test_gbt, title_addition='test set', ax=ax[1])\n",
    "plt.show()"
   ]
  },
  {
   "cell_type": "markdown",
   "metadata": {},
   "source": [
    ">Test set AUC is 0.6253 and it is above baseline (0.5)."
   ]
  },
  {
   "cell_type": "markdown",
   "metadata": {},
   "source": [
    "**Score Summary - Gradient Boosted-Tree Classifier**\n",
    "\n",
    "|CV(maxIter=50)|precison|recall|f1|AUC|AP|\n",
    "|---|---|---|---|---|---|\n",
    "|medium data train set|1.0000|1.0000|1.0000|1.0000|1.0000|\n",
    "|medium data test set|0.5938|0.6333|0.6129|0.6253|0.6333|\n",
    "\n",
    ">Train set score F1=1.0 definitely indicates over-fitting. But test set score F1=0.6129 is pretty good.<br>\n",
    "\n",
    "(For further discussion by comparing with mini set result, please refer to mini set note.)"
   ]
  },
  {
   "cell_type": "markdown",
   "metadata": {},
   "source": [
    "**Feature Importances**<br>\n",
    "Feature importances can be extracted from Gradient Boosted-Tree model."
   ]
  },
  {
   "cell_type": "code",
   "execution_count": 123,
   "metadata": {
    "scrolled": true
   },
   "outputs": [
    {
     "data": {
      "text/plain": [
       "array([ 0.28185369,  0.10279969,  0.06136328,  0.08890626,  0.02677792,\n",
       "        0.05879448,  0.04574247,  0.02473714,  0.01321258,  0.02455085,\n",
       "        0.0397913 ,  0.01683182,  0.03992177,  0.05713802,  0.04833578,\n",
       "        0.04194331,  0.01769198,  0.00960767])"
      ]
     },
     "execution_count": 123,
     "metadata": {},
     "output_type": "execute_result"
    }
   ],
   "source": [
    "# load trained Gradient Boosted-Tree Classifier model from folder\n",
    "saved_gbtModel = PipelineModel.load('gbtModel')\n",
    "\n",
    "# get the best model and its feature importances\n",
    "bestGbtModel = saved_gbtModel.stages[-1]\n",
    "feature_importances = bestGbtModel.featureImportances.toArray()\n",
    "feature_importances"
   ]
  },
  {
   "cell_type": "code",
   "execution_count": 124,
   "metadata": {},
   "outputs": [
    {
     "data": {
      "text/plain": [
       "array(['songInterval', 'paidRatio', 'About', 'Add_Friend',\n",
       "       'Add_to_Playlist', 'Downgrade', 'Error', 'Help', 'Home', 'Logout',\n",
       "       'Roll_Advert', 'Save_Settings', 'Settings', 'Submit_Downgrade',\n",
       "       'Submit_Upgrade', 'Thumbs_Down', 'Thumbs_Up', 'Upgrade'],\n",
       "      dtype='<U16')"
      ]
     },
     "execution_count": 124,
     "metadata": {},
     "output_type": "execute_result"
    }
   ],
   "source": [
    "# change feature_labels to numpy array\n",
    "feature_labels_arr = np.array(feature_labels)\n",
    "feature_labels_arr"
   ]
  },
  {
   "cell_type": "code",
   "execution_count": 125,
   "metadata": {},
   "outputs": [],
   "source": [
    "# sort feature importances and get indices\n",
    "sorted_indices = np.argsort(feature_importances)[::-1]\n",
    "\n",
    "# get sorted importance list and label list\n",
    "sorted_labels = feature_labels_arr[sorted_indices]\n",
    "sorted_importances = feature_importances[sorted_indices]\n",
    "\n",
    "# scale to max value\n",
    "sorted_importances = sorted_importances / np.max(sorted_importances)"
   ]
  },
  {
   "cell_type": "code",
   "execution_count": 126,
   "metadata": {
    "scrolled": true
   },
   "outputs": [
    {
     "name": "stderr",
     "output_type": "stream",
     "text": [
      "/opt/ibm/conda/miniconda3/lib/python3.5/site-packages/seaborn/categorical.py:1460: FutureWarning: remove_na is deprecated and is a private function. Do not use.\n",
      "  stat_data = remove_na(group_data)\n"
     ]
    },
    {
     "data": {
      "image/png": "[encoded data removed]",
      "text/plain": [
       "<matplotlib.figure.Figure at 0x2ac753bbb320>"
      ]
     },
     "metadata": {},
     "output_type": "display_data"
    }
   ],
   "source": [
    "# plot feature importances (Gradient Boosted-Tree Classifier)\n",
    "sns.barplot(x=sorted_importances, y=sorted_labels, orient='h', color='blue')\n",
    "plt.title('Sparkify churn model feature importances (GBT classifier)')\n",
    "plt.xlabel('Importance (scaled to max value)')\n",
    "plt.show()"
   ]
  },
  {
   "cell_type": "markdown",
   "metadata": {},
   "source": [
    ">'songInterval' (song inteval) is the most important feature for the Gradient Boosted-Tree model with medium data set.<br>\n",
    "\n",
    "(For further discussion by comparing with mini set result, please refer to mini set note.)"
   ]
  },
  {
   "cell_type": "code",
   "execution_count": null,
   "metadata": {},
   "outputs": [],
   "source": []
  }
 ],
 "metadata": {
  "kernelspec": {
   "display_name": "Python [default]",
   "language": "python",
   "name": "python3"
  },
  "language_info": {
   "codemirror_mode": {
    "name": "ipython",
    "version": 3
   },
   "file_extension": ".py",
   "mimetype": "text/x-python",
   "name": "python",
   "nbconvert_exporter": "python",
   "pygments_lexer": "ipython3",
   "version": "3.6.7"
  }
 },
 "nbformat": 4,
 "nbformat_minor": 2
}
